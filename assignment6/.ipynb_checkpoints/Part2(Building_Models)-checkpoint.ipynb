{
 "cells": [
  {
   "cell_type": "code",
   "execution_count": 28,
   "metadata": {},
   "outputs": [],
   "source": [
    "import pandas as pd\n",
    "import numpy as np\n",
    "import sklearn.linear_model\n",
    "import tensorflow as tf\n",
    "from tensorflow import keras\n",
    "from sklearn.model_selection import train_test_split\n",
    "import pickle\n",
    "import time\n",
    "from sklearn.metrics import precision_recall_fscore_support\n",
    "from sklearn.metrics import confusion_matrix\n",
    "import matplotlib.pyplot as plt\n",
    "    "
   ]
  },
  {
   "cell_type": "code",
   "execution_count": 3,
   "metadata": {},
   "outputs": [],
   "source": [
    "#loading the dataframe\n",
    "DF_Train = pd.read_pickle('Training_DataFrame.pkl')\n",
    "DF_Test = pd.read_pickle('Testing_DataFrame.pkl')"
   ]
  },
  {
   "cell_type": "code",
   "execution_count": 4,
   "metadata": {},
   "outputs": [
    {
     "data": {
      "text/html": [
       "<div>\n",
       "<style scoped>\n",
       "    .dataframe tbody tr th:only-of-type {\n",
       "        vertical-align: middle;\n",
       "    }\n",
       "\n",
       "    .dataframe tbody tr th {\n",
       "        vertical-align: top;\n",
       "    }\n",
       "\n",
       "    .dataframe thead th {\n",
       "        text-align: right;\n",
       "    }\n",
       "</style>\n",
       "<table border=\"1\" class=\"dataframe\">\n",
       "  <thead>\n",
       "    <tr style=\"text-align: right;\">\n",
       "      <th></th>\n",
       "      <th>0</th>\n",
       "      <th>1</th>\n",
       "      <th>2</th>\n",
       "      <th>3</th>\n",
       "      <th>4</th>\n",
       "      <th>5</th>\n",
       "      <th>6</th>\n",
       "      <th>7</th>\n",
       "      <th>8</th>\n",
       "      <th>9</th>\n",
       "      <th>output</th>\n",
       "    </tr>\n",
       "  </thead>\n",
       "  <tbody>\n",
       "    <tr>\n",
       "      <th>0</th>\n",
       "      <td>0.173467</td>\n",
       "      <td>0.115168</td>\n",
       "      <td>0.040256</td>\n",
       "      <td>0.028774</td>\n",
       "      <td>0.022774</td>\n",
       "      <td>0.027978</td>\n",
       "      <td>0.040758</td>\n",
       "      <td>0.114785</td>\n",
       "      <td>0.193337</td>\n",
       "      <td>0.242703</td>\n",
       "      <td>0</td>\n",
       "    </tr>\n",
       "    <tr>\n",
       "      <th>1</th>\n",
       "      <td>0.175064</td>\n",
       "      <td>0.117241</td>\n",
       "      <td>0.039202</td>\n",
       "      <td>0.029067</td>\n",
       "      <td>0.022528</td>\n",
       "      <td>0.028703</td>\n",
       "      <td>0.040004</td>\n",
       "      <td>0.114940</td>\n",
       "      <td>0.186783</td>\n",
       "      <td>0.246468</td>\n",
       "      <td>0</td>\n",
       "    </tr>\n",
       "    <tr>\n",
       "      <th>2</th>\n",
       "      <td>0.178175</td>\n",
       "      <td>0.115156</td>\n",
       "      <td>0.038259</td>\n",
       "      <td>0.027344</td>\n",
       "      <td>0.022130</td>\n",
       "      <td>0.028210</td>\n",
       "      <td>0.038826</td>\n",
       "      <td>0.110651</td>\n",
       "      <td>0.194021</td>\n",
       "      <td>0.247228</td>\n",
       "      <td>0</td>\n",
       "    </tr>\n",
       "    <tr>\n",
       "      <th>3</th>\n",
       "      <td>0.176319</td>\n",
       "      <td>0.115632</td>\n",
       "      <td>0.038478</td>\n",
       "      <td>0.029262</td>\n",
       "      <td>0.023975</td>\n",
       "      <td>0.029461</td>\n",
       "      <td>0.039367</td>\n",
       "      <td>0.112942</td>\n",
       "      <td>0.190716</td>\n",
       "      <td>0.243848</td>\n",
       "      <td>0</td>\n",
       "    </tr>\n",
       "    <tr>\n",
       "      <th>4</th>\n",
       "      <td>0.176841</td>\n",
       "      <td>0.114966</td>\n",
       "      <td>0.035616</td>\n",
       "      <td>0.027037</td>\n",
       "      <td>0.021880</td>\n",
       "      <td>0.029373</td>\n",
       "      <td>0.036905</td>\n",
       "      <td>0.110703</td>\n",
       "      <td>0.196857</td>\n",
       "      <td>0.249821</td>\n",
       "      <td>0</td>\n",
       "    </tr>\n",
       "    <tr>\n",
       "      <th>...</th>\n",
       "      <td>...</td>\n",
       "      <td>...</td>\n",
       "      <td>...</td>\n",
       "      <td>...</td>\n",
       "      <td>...</td>\n",
       "      <td>...</td>\n",
       "      <td>...</td>\n",
       "      <td>...</td>\n",
       "      <td>...</td>\n",
       "      <td>...</td>\n",
       "      <td>...</td>\n",
       "    </tr>\n",
       "    <tr>\n",
       "      <th>6229</th>\n",
       "      <td>0.144933</td>\n",
       "      <td>0.127653</td>\n",
       "      <td>0.035068</td>\n",
       "      <td>0.030944</td>\n",
       "      <td>0.022034</td>\n",
       "      <td>0.031307</td>\n",
       "      <td>0.032232</td>\n",
       "      <td>0.087505</td>\n",
       "      <td>0.270993</td>\n",
       "      <td>0.217331</td>\n",
       "      <td>24</td>\n",
       "    </tr>\n",
       "    <tr>\n",
       "      <th>6230</th>\n",
       "      <td>0.146540</td>\n",
       "      <td>0.119149</td>\n",
       "      <td>0.035289</td>\n",
       "      <td>0.029211</td>\n",
       "      <td>0.022423</td>\n",
       "      <td>0.029338</td>\n",
       "      <td>0.031477</td>\n",
       "      <td>0.093723</td>\n",
       "      <td>0.274765</td>\n",
       "      <td>0.218083</td>\n",
       "      <td>24</td>\n",
       "    </tr>\n",
       "    <tr>\n",
       "      <th>6231</th>\n",
       "      <td>0.151077</td>\n",
       "      <td>0.118620</td>\n",
       "      <td>0.037451</td>\n",
       "      <td>0.030837</td>\n",
       "      <td>0.025394</td>\n",
       "      <td>0.032559</td>\n",
       "      <td>0.034782</td>\n",
       "      <td>0.094049</td>\n",
       "      <td>0.260143</td>\n",
       "      <td>0.215088</td>\n",
       "      <td>24</td>\n",
       "    </tr>\n",
       "    <tr>\n",
       "      <th>6232</th>\n",
       "      <td>0.151777</td>\n",
       "      <td>0.117806</td>\n",
       "      <td>0.037390</td>\n",
       "      <td>0.031056</td>\n",
       "      <td>0.024355</td>\n",
       "      <td>0.032553</td>\n",
       "      <td>0.034465</td>\n",
       "      <td>0.093709</td>\n",
       "      <td>0.262143</td>\n",
       "      <td>0.214748</td>\n",
       "      <td>24</td>\n",
       "    </tr>\n",
       "    <tr>\n",
       "      <th>6233</th>\n",
       "      <td>0.148404</td>\n",
       "      <td>0.118733</td>\n",
       "      <td>0.035965</td>\n",
       "      <td>0.029658</td>\n",
       "      <td>0.021546</td>\n",
       "      <td>0.029075</td>\n",
       "      <td>0.033481</td>\n",
       "      <td>0.095450</td>\n",
       "      <td>0.266245</td>\n",
       "      <td>0.221444</td>\n",
       "      <td>24</td>\n",
       "    </tr>\n",
       "  </tbody>\n",
       "</table>\n",
       "<p>6234 rows × 11 columns</p>\n",
       "</div>"
      ],
      "text/plain": [
       "             0         1         2         3         4         5         6  \\\n",
       "0     0.173467  0.115168  0.040256  0.028774  0.022774  0.027978  0.040758   \n",
       "1     0.175064  0.117241  0.039202  0.029067  0.022528  0.028703  0.040004   \n",
       "2     0.178175  0.115156  0.038259  0.027344  0.022130  0.028210  0.038826   \n",
       "3     0.176319  0.115632  0.038478  0.029262  0.023975  0.029461  0.039367   \n",
       "4     0.176841  0.114966  0.035616  0.027037  0.021880  0.029373  0.036905   \n",
       "...        ...       ...       ...       ...       ...       ...       ...   \n",
       "6229  0.144933  0.127653  0.035068  0.030944  0.022034  0.031307  0.032232   \n",
       "6230  0.146540  0.119149  0.035289  0.029211  0.022423  0.029338  0.031477   \n",
       "6231  0.151077  0.118620  0.037451  0.030837  0.025394  0.032559  0.034782   \n",
       "6232  0.151777  0.117806  0.037390  0.031056  0.024355  0.032553  0.034465   \n",
       "6233  0.148404  0.118733  0.035965  0.029658  0.021546  0.029075  0.033481   \n",
       "\n",
       "             7         8         9  output  \n",
       "0     0.114785  0.193337  0.242703       0  \n",
       "1     0.114940  0.186783  0.246468       0  \n",
       "2     0.110651  0.194021  0.247228       0  \n",
       "3     0.112942  0.190716  0.243848       0  \n",
       "4     0.110703  0.196857  0.249821       0  \n",
       "...        ...       ...       ...     ...  \n",
       "6229  0.087505  0.270993  0.217331      24  \n",
       "6230  0.093723  0.274765  0.218083      24  \n",
       "6231  0.094049  0.260143  0.215088      24  \n",
       "6232  0.093709  0.262143  0.214748      24  \n",
       "6233  0.095450  0.266245  0.221444      24  \n",
       "\n",
       "[6234 rows x 11 columns]"
      ]
     },
     "execution_count": 4,
     "metadata": {},
     "output_type": "execute_result"
    }
   ],
   "source": [
    "DF_Train.fillna(0)"
   ]
  },
  {
   "cell_type": "code",
   "execution_count": 5,
   "metadata": {},
   "outputs": [
    {
     "data": {
      "text/html": [
       "<div>\n",
       "<style scoped>\n",
       "    .dataframe tbody tr th:only-of-type {\n",
       "        vertical-align: middle;\n",
       "    }\n",
       "\n",
       "    .dataframe tbody tr th {\n",
       "        vertical-align: top;\n",
       "    }\n",
       "\n",
       "    .dataframe thead th {\n",
       "        text-align: right;\n",
       "    }\n",
       "</style>\n",
       "<table border=\"1\" class=\"dataframe\">\n",
       "  <thead>\n",
       "    <tr style=\"text-align: right;\">\n",
       "      <th></th>\n",
       "      <th>0</th>\n",
       "      <th>1</th>\n",
       "      <th>2</th>\n",
       "      <th>3</th>\n",
       "      <th>4</th>\n",
       "      <th>5</th>\n",
       "      <th>6</th>\n",
       "      <th>7</th>\n",
       "      <th>8</th>\n",
       "      <th>9</th>\n",
       "      <th>output</th>\n",
       "    </tr>\n",
       "  </thead>\n",
       "  <tbody>\n",
       "    <tr>\n",
       "      <th>0</th>\n",
       "      <td>0.176612</td>\n",
       "      <td>0.116649</td>\n",
       "      <td>0.040216</td>\n",
       "      <td>0.028359</td>\n",
       "      <td>0.023345</td>\n",
       "      <td>0.028820</td>\n",
       "      <td>0.039524</td>\n",
       "      <td>0.113112</td>\n",
       "      <td>0.191837</td>\n",
       "      <td>0.241526</td>\n",
       "      <td>0</td>\n",
       "    </tr>\n",
       "    <tr>\n",
       "      <th>1</th>\n",
       "      <td>0.169986</td>\n",
       "      <td>0.115745</td>\n",
       "      <td>0.041896</td>\n",
       "      <td>0.029437</td>\n",
       "      <td>0.021816</td>\n",
       "      <td>0.031671</td>\n",
       "      <td>0.041067</td>\n",
       "      <td>0.109656</td>\n",
       "      <td>0.192491</td>\n",
       "      <td>0.246234</td>\n",
       "      <td>0</td>\n",
       "    </tr>\n",
       "    <tr>\n",
       "      <th>2</th>\n",
       "      <td>0.174427</td>\n",
       "      <td>0.114730</td>\n",
       "      <td>0.040921</td>\n",
       "      <td>0.029313</td>\n",
       "      <td>0.022776</td>\n",
       "      <td>0.028021</td>\n",
       "      <td>0.038889</td>\n",
       "      <td>0.112226</td>\n",
       "      <td>0.192745</td>\n",
       "      <td>0.245952</td>\n",
       "      <td>0</td>\n",
       "    </tr>\n",
       "    <tr>\n",
       "      <th>3</th>\n",
       "      <td>0.163444</td>\n",
       "      <td>0.117531</td>\n",
       "      <td>0.038361</td>\n",
       "      <td>0.031511</td>\n",
       "      <td>0.023685</td>\n",
       "      <td>0.033808</td>\n",
       "      <td>0.039475</td>\n",
       "      <td>0.111713</td>\n",
       "      <td>0.197362</td>\n",
       "      <td>0.243109</td>\n",
       "      <td>0</td>\n",
       "    </tr>\n",
       "    <tr>\n",
       "      <th>4</th>\n",
       "      <td>0.175866</td>\n",
       "      <td>0.115351</td>\n",
       "      <td>0.038851</td>\n",
       "      <td>0.027724</td>\n",
       "      <td>0.024050</td>\n",
       "      <td>0.029413</td>\n",
       "      <td>0.040942</td>\n",
       "      <td>0.113830</td>\n",
       "      <td>0.187511</td>\n",
       "      <td>0.246463</td>\n",
       "      <td>0</td>\n",
       "    </tr>\n",
       "    <tr>\n",
       "      <th>...</th>\n",
       "      <td>...</td>\n",
       "      <td>...</td>\n",
       "      <td>...</td>\n",
       "      <td>...</td>\n",
       "      <td>...</td>\n",
       "      <td>...</td>\n",
       "      <td>...</td>\n",
       "      <td>...</td>\n",
       "      <td>...</td>\n",
       "      <td>...</td>\n",
       "      <td>...</td>\n",
       "    </tr>\n",
       "    <tr>\n",
       "      <th>3100</th>\n",
       "      <td>0.147066</td>\n",
       "      <td>0.117588</td>\n",
       "      <td>0.034958</td>\n",
       "      <td>0.029987</td>\n",
       "      <td>0.022810</td>\n",
       "      <td>0.030415</td>\n",
       "      <td>0.033121</td>\n",
       "      <td>0.092319</td>\n",
       "      <td>0.271396</td>\n",
       "      <td>0.220340</td>\n",
       "      <td>24</td>\n",
       "    </tr>\n",
       "    <tr>\n",
       "      <th>3101</th>\n",
       "      <td>0.144612</td>\n",
       "      <td>0.119736</td>\n",
       "      <td>0.037157</td>\n",
       "      <td>0.030221</td>\n",
       "      <td>0.022714</td>\n",
       "      <td>0.029732</td>\n",
       "      <td>0.031841</td>\n",
       "      <td>0.089061</td>\n",
       "      <td>0.275081</td>\n",
       "      <td>0.219845</td>\n",
       "      <td>24</td>\n",
       "    </tr>\n",
       "    <tr>\n",
       "      <th>3102</th>\n",
       "      <td>0.152537</td>\n",
       "      <td>0.115177</td>\n",
       "      <td>0.037734</td>\n",
       "      <td>0.030340</td>\n",
       "      <td>0.024684</td>\n",
       "      <td>0.030639</td>\n",
       "      <td>0.034446</td>\n",
       "      <td>0.093465</td>\n",
       "      <td>0.259694</td>\n",
       "      <td>0.221284</td>\n",
       "      <td>24</td>\n",
       "    </tr>\n",
       "    <tr>\n",
       "      <th>3103</th>\n",
       "      <td>0.148095</td>\n",
       "      <td>0.117216</td>\n",
       "      <td>0.036489</td>\n",
       "      <td>0.031639</td>\n",
       "      <td>0.026609</td>\n",
       "      <td>0.033658</td>\n",
       "      <td>0.035754</td>\n",
       "      <td>0.092921</td>\n",
       "      <td>0.263800</td>\n",
       "      <td>0.213819</td>\n",
       "      <td>24</td>\n",
       "    </tr>\n",
       "    <tr>\n",
       "      <th>3104</th>\n",
       "      <td>0.147174</td>\n",
       "      <td>0.119569</td>\n",
       "      <td>0.036290</td>\n",
       "      <td>0.029992</td>\n",
       "      <td>0.022326</td>\n",
       "      <td>0.029694</td>\n",
       "      <td>0.032815</td>\n",
       "      <td>0.094244</td>\n",
       "      <td>0.269118</td>\n",
       "      <td>0.218778</td>\n",
       "      <td>24</td>\n",
       "    </tr>\n",
       "  </tbody>\n",
       "</table>\n",
       "<p>3105 rows × 11 columns</p>\n",
       "</div>"
      ],
      "text/plain": [
       "             0         1         2         3         4         5         6  \\\n",
       "0     0.176612  0.116649  0.040216  0.028359  0.023345  0.028820  0.039524   \n",
       "1     0.169986  0.115745  0.041896  0.029437  0.021816  0.031671  0.041067   \n",
       "2     0.174427  0.114730  0.040921  0.029313  0.022776  0.028021  0.038889   \n",
       "3     0.163444  0.117531  0.038361  0.031511  0.023685  0.033808  0.039475   \n",
       "4     0.175866  0.115351  0.038851  0.027724  0.024050  0.029413  0.040942   \n",
       "...        ...       ...       ...       ...       ...       ...       ...   \n",
       "3100  0.147066  0.117588  0.034958  0.029987  0.022810  0.030415  0.033121   \n",
       "3101  0.144612  0.119736  0.037157  0.030221  0.022714  0.029732  0.031841   \n",
       "3102  0.152537  0.115177  0.037734  0.030340  0.024684  0.030639  0.034446   \n",
       "3103  0.148095  0.117216  0.036489  0.031639  0.026609  0.033658  0.035754   \n",
       "3104  0.147174  0.119569  0.036290  0.029992  0.022326  0.029694  0.032815   \n",
       "\n",
       "             7         8         9  output  \n",
       "0     0.113112  0.191837  0.241526       0  \n",
       "1     0.109656  0.192491  0.246234       0  \n",
       "2     0.112226  0.192745  0.245952       0  \n",
       "3     0.111713  0.197362  0.243109       0  \n",
       "4     0.113830  0.187511  0.246463       0  \n",
       "...        ...       ...       ...     ...  \n",
       "3100  0.092319  0.271396  0.220340      24  \n",
       "3101  0.089061  0.275081  0.219845      24  \n",
       "3102  0.093465  0.259694  0.221284      24  \n",
       "3103  0.092921  0.263800  0.213819      24  \n",
       "3104  0.094244  0.269118  0.218778      24  \n",
       "\n",
       "[3105 rows x 11 columns]"
      ]
     },
     "execution_count": 5,
     "metadata": {},
     "output_type": "execute_result"
    }
   ],
   "source": [
    "DF_Test.fillna(0)"
   ]
  },
  {
   "cell_type": "code",
   "execution_count": 6,
   "metadata": {},
   "outputs": [],
   "source": [
    "X_train = DF_Train.drop('output',axis='columns')\n",
    "y_train = DF_Train['output']"
   ]
  },
  {
   "cell_type": "code",
   "execution_count": 7,
   "metadata": {},
   "outputs": [],
   "source": [
    "X_test = DF_Test.drop('output',axis='columns')\n",
    "y_test = DF_Test['output']"
   ]
  },
  {
   "cell_type": "code",
   "execution_count": 8,
   "metadata": {},
   "outputs": [
    {
     "data": {
      "text/plain": [
       "(6234, 6234, 3105, 3105)"
      ]
     },
     "execution_count": 8,
     "metadata": {},
     "output_type": "execute_result"
    }
   ],
   "source": [
    "len(X_train),len(y_train),len(X_test),len(y_test)"
   ]
  },
  {
   "cell_type": "code",
   "execution_count": 38,
   "metadata": {},
   "outputs": [],
   "source": [
    "def plot_confusion_matrix(y_test,y_pred):\n",
    "    cm = confusion_matrix(y_test,y_pred)\n",
    "    conf_mat = np.array(cm)\n",
    "    plt.imshow(conf_mat, interpolation='nearest')\n",
    "    plt.title('Confusion matrix')\n",
    "    plt.colorbar()\n",
    "    plt.show()"
   ]
  },
  {
   "cell_type": "code",
   "execution_count": 39,
   "metadata": {},
   "outputs": [],
   "source": [
    "def print_metrics(model_name,model,X_train,y_train,X_test,y_test):\n",
    "    t1 = time.process_time()\n",
    "    model.fit(X_train,y_train)\n",
    "    t2 = time.process_time()\n",
    "    training_time = t2-t1\n",
    "    t1 = t2 = 0\n",
    "    accuracy = model.score(X_test,y_test)\n",
    "    t1 = time.process_time()\n",
    "    accuracy = model.score(X_test,y_test)\n",
    "    t2 = time.process_time()\n",
    "    testing_time = t2-t1\n",
    "    y_pred = model.predict(X_test)\n",
    "    t = precision_recall_fscore_support(y_test,y_pred,average='macro')\n",
    "    print(model_name)\n",
    "    print('Precision:'+str(t[0])+'|Recall:'+str(t[1])+'|accuracy:'+str(accuracy))\n",
    "    print('Confusion Matrix')\n",
    "    plot_confusion_matrix(y_test,y_pred)"
   ]
  },
  {
   "cell_type": "code",
   "execution_count": 40,
   "metadata": {},
   "outputs": [],
   "source": [
    "model = sklearn.svm.SVC(kernel='linear')"
   ]
  },
  {
   "cell_type": "code",
   "execution_count": 41,
   "metadata": {},
   "outputs": [
    {
     "data": {
      "text/plain": [
       "SVC(kernel='linear')"
      ]
     },
     "execution_count": 41,
     "metadata": {},
     "output_type": "execute_result"
    }
   ],
   "source": [
    "model"
   ]
  },
  {
   "cell_type": "code",
   "execution_count": 42,
   "metadata": {},
   "outputs": [
    {
     "name": "stdout",
     "output_type": "stream",
     "text": [
      "SVM(LINEAR)\n",
      "Precision:0.14152784875490393|Recall:0.20245067556918314|accuracy:0.4753623188405797\n",
      "Confusion Matrix\n"
     ]
    },
    {
     "name": "stderr",
     "output_type": "stream",
     "text": [
      "/home/markfirmware/anaconda3/lib/python3.8/site-packages/sklearn/metrics/_classification.py:1221: UndefinedMetricWarning: Precision and F-score are ill-defined and being set to 0.0 in labels with no predicted samples. Use `zero_division` parameter to control this behavior.\n",
      "  _warn_prf(average, modifier, msg_start, len(result))\n"
     ]
    },
    {
     "data": {
      "image/png": "[encoded data removed]",
      "text/plain": [
       "<Figure size 432x288 with 2 Axes>"
      ]
     },
     "metadata": {
      "needs_background": "light"
     },
     "output_type": "display_data"
    }
   ],
   "source": [
    "print_metrics('SVM(LINEAR)',model,X_train,y_train,X_test,y_test)"
   ]
  },
  {
   "cell_type": "code",
   "execution_count": 43,
   "metadata": {},
   "outputs": [],
   "source": [
    "model = sklearn.linear_model.LogisticRegression()"
   ]
  },
  {
   "cell_type": "code",
   "execution_count": 44,
   "metadata": {},
   "outputs": [
    {
     "name": "stdout",
     "output_type": "stream",
     "text": [
      "LOGISTICS_REGRESSION\n",
      "Precision:0.13677572027116092|Recall:0.17970588235294116|accuracy:0.4676328502415459\n",
      "Confusion Matrix\n"
     ]
    },
    {
     "name": "stderr",
     "output_type": "stream",
     "text": [
      "/home/markfirmware/anaconda3/lib/python3.8/site-packages/sklearn/linear_model/_logistic.py:762: ConvergenceWarning: lbfgs failed to converge (status=1):\n",
      "STOP: TOTAL NO. of ITERATIONS REACHED LIMIT.\n",
      "\n",
      "Increase the number of iterations (max_iter) or scale the data as shown in:\n",
      "    https://scikit-learn.org/stable/modules/preprocessing.html\n",
      "Please also refer to the documentation for alternative solver options:\n",
      "    https://scikit-learn.org/stable/modules/linear_model.html#logistic-regression\n",
      "  n_iter_i = _check_optimize_result(\n",
      "/home/markfirmware/anaconda3/lib/python3.8/site-packages/sklearn/metrics/_classification.py:1221: UndefinedMetricWarning: Precision and F-score are ill-defined and being set to 0.0 in labels with no predicted samples. Use `zero_division` parameter to control this behavior.\n",
      "  _warn_prf(average, modifier, msg_start, len(result))\n"
     ]
    },
    {
     "data": {
      "image/png": "[encoded data removed]",
      "text/plain": [
       "<Figure size 432x288 with 2 Axes>"
      ]
     },
     "metadata": {
      "needs_background": "light"
     },
     "output_type": "display_data"
    }
   ],
   "source": [
    "print_metrics('LOGISTICS_REGRESSION',model,X_train,y_train,X_test,y_test)"
   ]
  },
  {
   "cell_type": "code",
   "execution_count": 45,
   "metadata": {},
   "outputs": [],
   "source": [
    "from sklearn.naive_bayes import MultinomialNB"
   ]
  },
  {
   "cell_type": "code",
   "execution_count": 46,
   "metadata": {},
   "outputs": [],
   "source": [
    "model = MultinomialNB()"
   ]
  },
  {
   "cell_type": "code",
   "execution_count": 47,
   "metadata": {},
   "outputs": [
    {
     "name": "stdout",
     "output_type": "stream",
     "text": [
      "Naive_Bayes_Multinomial\n",
      "Precision:0.012663446054750402|Recall:0.04|accuracy:0.31658615136876006\n",
      "Confusion Matrix\n"
     ]
    },
    {
     "name": "stderr",
     "output_type": "stream",
     "text": [
      "/home/markfirmware/anaconda3/lib/python3.8/site-packages/sklearn/metrics/_classification.py:1221: UndefinedMetricWarning: Precision and F-score are ill-defined and being set to 0.0 in labels with no predicted samples. Use `zero_division` parameter to control this behavior.\n",
      "  _warn_prf(average, modifier, msg_start, len(result))\n"
     ]
    },
    {
     "data": {
      "image/png": "[encoded data removed]",
      "text/plain": [
       "<Figure size 432x288 with 2 Axes>"
      ]
     },
     "metadata": {
      "needs_background": "light"
     },
     "output_type": "display_data"
    }
   ],
   "source": [
    "print_metrics('Naive_Bayes_Multinomial',model,X_train,y_train,X_test,y_test)"
   ]
  },
  {
   "cell_type": "code",
   "execution_count": 48,
   "metadata": {},
   "outputs": [],
   "source": [
    "from sklearn.ensemble import RandomForestClassifier"
   ]
  },
  {
   "cell_type": "code",
   "execution_count": 49,
   "metadata": {},
   "outputs": [],
   "source": [
    "model = RandomForestClassifier(n_estimators=24)"
   ]
  },
  {
   "cell_type": "code",
   "execution_count": 50,
   "metadata": {},
   "outputs": [
    {
     "name": "stdout",
     "output_type": "stream",
     "text": [
      "Random Forest\n",
      "Precision:0.9464335177639286|Recall:0.933059046798462|accuracy:0.9204508856682769\n",
      "Confusion Matrix\n"
     ]
    },
    {
     "data": {
      "image/png": "[encoded data removed]",
      "text/plain": [
       "<Figure size 432x288 with 2 Axes>"
      ]
     },
     "metadata": {
      "needs_background": "light"
     },
     "output_type": "display_data"
    }
   ],
   "source": [
    "print_metrics('Random Forest',model,X_train,y_train,X_test,y_test)"
   ]
  },
  {
   "cell_type": "code",
   "execution_count": 22,
   "metadata": {},
   "outputs": [],
   "source": [
    "#now trying a sample neural network"
   ]
  },
  {
   "cell_type": "code",
   "execution_count": 51,
   "metadata": {},
   "outputs": [],
   "source": [
    "model = keras.Sequential([\n",
    "    keras.layers.Dense(100,input_shape=(10,),activation='relu'),\n",
    "    keras.layers.Dense(10,activation='relu'),\n",
    "    keras.layers.Dense(10,activation='relu'),\n",
    "    keras.layers.Dense(25,activation='sigmoid')\n",
    "])"
   ]
  },
  {
   "cell_type": "code",
   "execution_count": 52,
   "metadata": {},
   "outputs": [],
   "source": [
    "model.compile(optimizer='adam',loss='sparse_categorical_crossentropy',metrics=['accuracy'])"
   ]
  },
  {
   "cell_type": "code",
   "execution_count": 53,
   "metadata": {},
   "outputs": [
    {
     "name": "stdout",
     "output_type": "stream",
     "text": [
      "Epoch 1/100\n",
      "195/195 [==============================] - 0s 540us/step - loss: 2.9332 - accuracy: 0.1991\n",
      "Epoch 2/100\n",
      "195/195 [==============================] - 0s 519us/step - loss: 2.4709 - accuracy: 0.3154\n",
      "Epoch 3/100\n",
      "195/195 [==============================] - 0s 500us/step - loss: 2.3249 - accuracy: 0.3154\n",
      "Epoch 4/100\n",
      "195/195 [==============================] - 0s 518us/step - loss: 2.0661 - accuracy: 0.3693\n",
      "Epoch 5/100\n",
      "195/195 [==============================] - 0s 520us/step - loss: 1.6739 - accuracy: 0.4384\n",
      "Epoch 6/100\n",
      "195/195 [==============================] - 0s 510us/step - loss: 1.5184 - accuracy: 0.4567\n",
      "Epoch 7/100\n",
      "195/195 [==============================] - 0s 546us/step - loss: 1.4356 - accuracy: 0.4873\n",
      "Epoch 8/100\n",
      "195/195 [==============================] - 0s 524us/step - loss: 1.3727 - accuracy: 0.5024\n",
      "Epoch 9/100\n",
      "195/195 [==============================] - 0s 522us/step - loss: 1.3268 - accuracy: 0.5096\n",
      "Epoch 10/100\n",
      "195/195 [==============================] - 0s 538us/step - loss: 1.2984 - accuracy: 0.5226\n",
      "Epoch 11/100\n",
      "195/195 [==============================] - 0s 536us/step - loss: 1.2775 - accuracy: 0.5346\n",
      "Epoch 12/100\n",
      "195/195 [==============================] - 0s 532us/step - loss: 1.2644 - accuracy: 0.5303\n",
      "Epoch 13/100\n",
      "195/195 [==============================] - 0s 524us/step - loss: 1.2440 - accuracy: 0.5407\n",
      "Epoch 14/100\n",
      "195/195 [==============================] - 0s 535us/step - loss: 1.2341 - accuracy: 0.5456\n",
      "Epoch 15/100\n",
      "195/195 [==============================] - 0s 522us/step - loss: 1.2221 - accuracy: 0.5566\n",
      "Epoch 16/100\n",
      "195/195 [==============================] - 0s 550us/step - loss: 1.2122 - accuracy: 0.5528\n",
      "Epoch 17/100\n",
      "195/195 [==============================] - 0s 531us/step - loss: 1.2015 - accuracy: 0.5629\n",
      "Epoch 18/100\n",
      "195/195 [==============================] - 0s 523us/step - loss: 1.1963 - accuracy: 0.5571\n",
      "Epoch 19/100\n",
      "195/195 [==============================] - 0s 542us/step - loss: 1.1879 - accuracy: 0.5587\n",
      "Epoch 20/100\n",
      "195/195 [==============================] - 0s 548us/step - loss: 1.1787 - accuracy: 0.5616\n",
      "Epoch 21/100\n",
      "195/195 [==============================] - 0s 621us/step - loss: 1.1674 - accuracy: 0.5648\n",
      "Epoch 22/100\n",
      "195/195 [==============================] - 0s 529us/step - loss: 1.1648 - accuracy: 0.5731\n",
      "Epoch 23/100\n",
      "195/195 [==============================] - 0s 539us/step - loss: 1.1589 - accuracy: 0.5746\n",
      "Epoch 24/100\n",
      "195/195 [==============================] - 0s 554us/step - loss: 1.1508 - accuracy: 0.5682\n",
      "Epoch 25/100\n",
      "195/195 [==============================] - 0s 533us/step - loss: 1.1432 - accuracy: 0.5776\n",
      "Epoch 26/100\n",
      "195/195 [==============================] - 0s 560us/step - loss: 1.1350 - accuracy: 0.5792\n",
      "Epoch 27/100\n",
      "195/195 [==============================] - 0s 538us/step - loss: 1.1317 - accuracy: 0.5797\n",
      "Epoch 28/100\n",
      "195/195 [==============================] - 0s 545us/step - loss: 1.1251 - accuracy: 0.5807\n",
      "Epoch 29/100\n",
      "195/195 [==============================] - 0s 559us/step - loss: 1.1174 - accuracy: 0.5842\n",
      "Epoch 30/100\n",
      "195/195 [==============================] - 0s 521us/step - loss: 1.1122 - accuracy: 0.5805\n",
      "Epoch 31/100\n",
      "195/195 [==============================] - 0s 530us/step - loss: 1.1069 - accuracy: 0.5858\n",
      "Epoch 32/100\n",
      "195/195 [==============================] - 0s 511us/step - loss: 1.1017 - accuracy: 0.5839\n",
      "Epoch 33/100\n",
      "195/195 [==============================] - 0s 553us/step - loss: 1.0979 - accuracy: 0.5871\n",
      "Epoch 34/100\n",
      "195/195 [==============================] - 0s 566us/step - loss: 1.0879 - accuracy: 0.5845\n",
      "Epoch 35/100\n",
      "195/195 [==============================] - 0s 535us/step - loss: 1.0928 - accuracy: 0.5853\n",
      "Epoch 36/100\n",
      "195/195 [==============================] - 0s 541us/step - loss: 1.0868 - accuracy: 0.5858\n",
      "Epoch 37/100\n",
      "195/195 [==============================] - 0s 566us/step - loss: 1.0833 - accuracy: 0.5873\n",
      "Epoch 38/100\n",
      "195/195 [==============================] - 0s 630us/step - loss: 1.0757 - accuracy: 0.5842\n",
      "Epoch 39/100\n",
      "195/195 [==============================] - 0s 557us/step - loss: 1.0718 - accuracy: 0.5837\n",
      "Epoch 40/100\n",
      "195/195 [==============================] - 0s 550us/step - loss: 1.0661 - accuracy: 0.5898\n",
      "Epoch 41/100\n",
      "195/195 [==============================] - 0s 541us/step - loss: 1.0641 - accuracy: 0.5831\n",
      "Epoch 42/100\n",
      "195/195 [==============================] - 0s 543us/step - loss: 1.0547 - accuracy: 0.5961\n",
      "Epoch 43/100\n",
      "195/195 [==============================] - 0s 539us/step - loss: 1.0521 - accuracy: 0.5897\n",
      "Epoch 44/100\n",
      "195/195 [==============================] - 0s 528us/step - loss: 1.0510 - accuracy: 0.5927\n",
      "Epoch 45/100\n",
      "195/195 [==============================] - 0s 549us/step - loss: 1.0435 - accuracy: 0.5962\n",
      "Epoch 46/100\n",
      "195/195 [==============================] - 0s 531us/step - loss: 1.0446 - accuracy: 0.5919\n",
      "Epoch 47/100\n",
      "195/195 [==============================] - 0s 535us/step - loss: 1.0399 - accuracy: 0.5982\n",
      "Epoch 48/100\n",
      "195/195 [==============================] - 0s 538us/step - loss: 1.0441 - accuracy: 0.5905\n",
      "Epoch 49/100\n",
      "195/195 [==============================] - 0s 510us/step - loss: 1.0393 - accuracy: 0.5943\n",
      "Epoch 50/100\n",
      "195/195 [==============================] - 0s 528us/step - loss: 1.0307 - accuracy: 0.5983\n",
      "Epoch 51/100\n",
      "195/195 [==============================] - 0s 519us/step - loss: 1.0262 - accuracy: 0.5903\n",
      "Epoch 52/100\n",
      "195/195 [==============================] - 0s 575us/step - loss: 1.0195 - accuracy: 0.5991\n",
      "Epoch 53/100\n",
      "195/195 [==============================] - 0s 514us/step - loss: 1.0159 - accuracy: 0.5966\n",
      "Epoch 54/100\n",
      "195/195 [==============================] - 0s 572us/step - loss: 1.0124 - accuracy: 0.6020\n",
      "Epoch 55/100\n",
      "195/195 [==============================] - 0s 532us/step - loss: 1.0103 - accuracy: 0.6014\n",
      "Epoch 56/100\n",
      "195/195 [==============================] - 0s 603us/step - loss: 1.0142 - accuracy: 0.5995\n",
      "Epoch 57/100\n",
      "195/195 [==============================] - 0s 555us/step - loss: 1.0112 - accuracy: 0.6060\n",
      "Epoch 58/100\n",
      "195/195 [==============================] - 0s 531us/step - loss: 1.0023 - accuracy: 0.6030\n",
      "Epoch 59/100\n",
      "195/195 [==============================] - 0s 543us/step - loss: 0.9994 - accuracy: 0.5987\n",
      "Epoch 60/100\n",
      "195/195 [==============================] - 0s 538us/step - loss: 0.9955 - accuracy: 0.6043\n",
      "Epoch 61/100\n",
      "195/195 [==============================] - 0s 557us/step - loss: 0.9902 - accuracy: 0.6065\n",
      "Epoch 62/100\n",
      "195/195 [==============================] - 0s 530us/step - loss: 0.9838 - accuracy: 0.6046\n",
      "Epoch 63/100\n",
      "195/195 [==============================] - 0s 550us/step - loss: 0.9904 - accuracy: 0.6073\n",
      "Epoch 64/100\n",
      "195/195 [==============================] - 0s 542us/step - loss: 0.9812 - accuracy: 0.6007\n",
      "Epoch 65/100\n",
      "195/195 [==============================] - 0s 552us/step - loss: 0.9773 - accuracy: 0.6136\n",
      "Epoch 66/100\n",
      "195/195 [==============================] - 0s 533us/step - loss: 0.9731 - accuracy: 0.6137\n",
      "Epoch 67/100\n",
      "195/195 [==============================] - 0s 569us/step - loss: 0.9681 - accuracy: 0.6121\n",
      "Epoch 68/100\n",
      "195/195 [==============================] - 0s 530us/step - loss: 0.9654 - accuracy: 0.6131\n",
      "Epoch 69/100\n",
      "195/195 [==============================] - 0s 542us/step - loss: 0.9582 - accuracy: 0.6131\n",
      "Epoch 70/100\n",
      "195/195 [==============================] - 0s 536us/step - loss: 0.9548 - accuracy: 0.6179\n",
      "Epoch 71/100\n",
      "195/195 [==============================] - 0s 543us/step - loss: 0.9514 - accuracy: 0.6147\n",
      "Epoch 72/100\n",
      "195/195 [==============================] - 0s 546us/step - loss: 0.9451 - accuracy: 0.6238\n",
      "Epoch 73/100\n",
      "195/195 [==============================] - 0s 543us/step - loss: 0.9465 - accuracy: 0.6174\n",
      "Epoch 74/100\n",
      "195/195 [==============================] - 0s 552us/step - loss: 0.9425 - accuracy: 0.6243\n",
      "Epoch 75/100\n",
      "195/195 [==============================] - 0s 545us/step - loss: 0.9395 - accuracy: 0.6224\n",
      "Epoch 76/100\n",
      "195/195 [==============================] - 0s 543us/step - loss: 0.9294 - accuracy: 0.6229\n",
      "Epoch 77/100\n",
      "195/195 [==============================] - 0s 546us/step - loss: 0.9296 - accuracy: 0.6251\n",
      "Epoch 78/100\n",
      "195/195 [==============================] - 0s 544us/step - loss: 0.9166 - accuracy: 0.6270\n",
      "Epoch 79/100\n"
     ]
    },
    {
     "name": "stdout",
     "output_type": "stream",
     "text": [
      "195/195 [==============================] - 0s 554us/step - loss: 0.9124 - accuracy: 0.6277\n",
      "Epoch 80/100\n",
      "195/195 [==============================] - 0s 520us/step - loss: 0.9093 - accuracy: 0.6304\n",
      "Epoch 81/100\n",
      "195/195 [==============================] - 0s 529us/step - loss: 0.9031 - accuracy: 0.6346\n",
      "Epoch 82/100\n",
      "195/195 [==============================] - 0s 533us/step - loss: 0.8984 - accuracy: 0.6349\n",
      "Epoch 83/100\n",
      "195/195 [==============================] - 0s 533us/step - loss: 0.8903 - accuracy: 0.6453\n",
      "Epoch 84/100\n",
      "195/195 [==============================] - 0s 532us/step - loss: 0.8868 - accuracy: 0.6460\n",
      "Epoch 85/100\n",
      "195/195 [==============================] - 0s 542us/step - loss: 0.8852 - accuracy: 0.6449\n",
      "Epoch 86/100\n",
      "195/195 [==============================] - 0s 537us/step - loss: 0.8803 - accuracy: 0.6469\n",
      "Epoch 87/100\n",
      "195/195 [==============================] - 0s 536us/step - loss: 0.8775 - accuracy: 0.6577\n",
      "Epoch 88/100\n",
      "195/195 [==============================] - 0s 535us/step - loss: 0.8681 - accuracy: 0.6578\n",
      "Epoch 89/100\n",
      "195/195 [==============================] - 0s 542us/step - loss: 0.8655 - accuracy: 0.6578\n",
      "Epoch 90/100\n",
      "195/195 [==============================] - 0s 529us/step - loss: 0.8565 - accuracy: 0.6638\n",
      "Epoch 91/100\n",
      "195/195 [==============================] - 0s 543us/step - loss: 0.8525 - accuracy: 0.6704\n",
      "Epoch 92/100\n",
      "195/195 [==============================] - 0s 534us/step - loss: 0.8375 - accuracy: 0.6699\n",
      "Epoch 93/100\n",
      "195/195 [==============================] - 0s 544us/step - loss: 0.8320 - accuracy: 0.6756\n",
      "Epoch 94/100\n",
      "195/195 [==============================] - 0s 547us/step - loss: 0.8282 - accuracy: 0.6731\n",
      "Epoch 95/100\n",
      "195/195 [==============================] - 0s 540us/step - loss: 0.8240 - accuracy: 0.6752\n",
      "Epoch 96/100\n",
      "195/195 [==============================] - 0s 544us/step - loss: 0.8136 - accuracy: 0.6797\n",
      "Epoch 97/100\n",
      "195/195 [==============================] - 0s 522us/step - loss: 0.8131 - accuracy: 0.6811\n",
      "Epoch 98/100\n",
      "195/195 [==============================] - 0s 548us/step - loss: 0.8117 - accuracy: 0.6842\n",
      "Epoch 99/100\n",
      "195/195 [==============================] - 0s 565us/step - loss: 0.8024 - accuracy: 0.6848\n",
      "Epoch 100/100\n",
      "195/195 [==============================] - 0s 543us/step - loss: 0.7982 - accuracy: 0.6891\n"
     ]
    },
    {
     "data": {
      "text/plain": [
       "<tensorflow.python.keras.callbacks.History at 0x7f44f86a9df0>"
      ]
     },
     "execution_count": 53,
     "metadata": {},
     "output_type": "execute_result"
    }
   ],
   "source": [
    "model.fit(X_train,y_train,epochs=100)"
   ]
  },
  {
   "cell_type": "code",
   "execution_count": 54,
   "metadata": {},
   "outputs": [
    {
     "name": "stdout",
     "output_type": "stream",
     "text": [
      "98/98 [==============================] - 0s 462us/step - loss: 0.7839 - accuracy: 0.6889\n"
     ]
    },
    {
     "data": {
      "text/plain": [
       "[0.7839264273643494, 0.6888889074325562]"
      ]
     },
     "execution_count": 54,
     "metadata": {},
     "output_type": "execute_result"
    }
   ],
   "source": [
    "model.evaluate(X_test,y_test)"
   ]
  },
  {
   "cell_type": "code",
   "execution_count": 55,
   "metadata": {},
   "outputs": [
    {
     "name": "stdout",
     "output_type": "stream",
     "text": [
      "WARNING:tensorflow:From <ipython-input-55-fdaaf2360398>:1: Sequential.predict_classes (from tensorflow.python.keras.engine.sequential) is deprecated and will be removed after 2021-01-01.\n",
      "Instructions for updating:\n",
      "Please use instead:* `np.argmax(model.predict(x), axis=-1)`,   if your model does multi-class classification   (e.g. if it uses a `softmax` last-layer activation).* `(model.predict(x) > 0.5).astype(\"int32\")`,   if your model does binary classification   (e.g. if it uses a `sigmoid` last-layer activation).\n"
     ]
    }
   ],
   "source": [
    "y_pred = model.predict_classes(X_test)"
   ]
  },
  {
   "cell_type": "code",
   "execution_count": 56,
   "metadata": {},
   "outputs": [
    {
     "data": {
      "image/png": "[encoded data removed]",
      "text/plain": [
       "<Figure size 432x288 with 2 Axes>"
      ]
     },
     "metadata": {
      "needs_background": "light"
     },
     "output_type": "display_data"
    }
   ],
   "source": [
    "plot_confusion_matrix(y_test,y_pred)"
   ]
  },
  {
   "cell_type": "code",
   "execution_count": null,
   "metadata": {},
   "outputs": [],
   "source": []
  }
 ],
 "metadata": {
  "kernelspec": {
   "display_name": "Python 3",
   "language": "python",
   "name": "python3"
  },
  "language_info": {
   "codemirror_mode": {
    "name": "ipython",
    "version": 3
   },
   "file_extension": ".py",
   "mimetype": "text/x-python",
   "name": "python",
   "nbconvert_exporter": "python",
   "pygments_lexer": "ipython3",
   "version": "3.8.3"
  }
 },
 "nbformat": 4,
 "nbformat_minor": 4
}
