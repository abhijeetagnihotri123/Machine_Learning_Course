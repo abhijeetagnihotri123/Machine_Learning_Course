{
 "cells": [
  {
   "cell_type": "code",
   "execution_count": 34,
   "metadata": {},
   "outputs": [],
   "source": [
    "import pandas as pd\n",
    "import numpy as np\n",
    "import tensorflow as tf\n",
    "from tensorflow.keras import layers,models\n",
    "import os\n",
    "import glob\n",
    "import cv2\n",
    "import time\n",
    "import pickle"
   ]
  },
  {
   "cell_type": "code",
   "execution_count": 2,
   "metadata": {},
   "outputs": [],
   "source": [
    "list_of_directories = []"
   ]
  },
  {
   "cell_type": "code",
   "execution_count": 3,
   "metadata": {},
   "outputs": [],
   "source": [
    "path = \"malimg_dataset/malimg_paper_dataset_imgs\""
   ]
  },
  {
   "cell_type": "code",
   "execution_count": 4,
   "metadata": {},
   "outputs": [],
   "source": [
    "list_of_directories = os.listdir(path)"
   ]
  },
  {
   "cell_type": "code",
   "execution_count": 5,
   "metadata": {},
   "outputs": [],
   "source": [
    "outputs = []"
   ]
  },
  {
   "cell_type": "code",
   "execution_count": 6,
   "metadata": {},
   "outputs": [],
   "source": [
    "X_train,X_test,y_train,y_test = [],[],[],[]"
   ]
  },
  {
   "cell_type": "code",
   "execution_count": 7,
   "metadata": {},
   "outputs": [],
   "source": [
    "#we manually perform train test split of 2/3 and 1/3 for every class"
   ]
  },
  {
   "cell_type": "code",
   "execution_count": 8,
   "metadata": {},
   "outputs": [],
   "source": [
    "c = 0"
   ]
  },
  {
   "cell_type": "code",
   "execution_count": 9,
   "metadata": {},
   "outputs": [],
   "source": [
    "for directory in list_of_directories:\n",
    "    image_path = path+'/'+directory\n",
    "    list_of_files = glob.glob(image_path+'/*.png')\n",
    "    n1 = len(list_of_files)*2/3\n",
    "    n = len(list_of_files)\n",
    "    i=0\n",
    "    while i<n1:\n",
    "        img = cv2.imread(list_of_files[i])\n",
    "        dim = (64,64)\n",
    "        img_resized = cv2.resize(img,dim)\n",
    "        X_train.append(img_resized)\n",
    "        y_train.append(c)\n",
    "        i+=1\n",
    "    while i<n:\n",
    "        img = cv2.imread(list_of_files[i])\n",
    "        dim = (64,64)\n",
    "        img_resized = cv2.resize(img,dim)\n",
    "        X_test.append(img_resized)\n",
    "        y_test.append(c)\n",
    "        i+=1\n",
    "    c+=1"
   ]
  },
  {
   "cell_type": "code",
   "execution_count": 10,
   "metadata": {},
   "outputs": [],
   "source": [
    "X_train,X_test,y_train,y_test=np.array(X_train),np.array(X_test),np.array(y_train),np.array(y_test)"
   ]
  },
  {
   "cell_type": "code",
   "execution_count": 11,
   "metadata": {},
   "outputs": [
    {
     "data": {
      "text/plain": [
       "((6234, 64, 64, 3), (3105, 64, 64, 3), (6234,), (3105,))"
      ]
     },
     "execution_count": 11,
     "metadata": {},
     "output_type": "execute_result"
    }
   ],
   "source": [
    "X_train.shape,X_test.shape,y_train.shape,y_test.shape"
   ]
  },
  {
   "cell_type": "code",
   "execution_count": 12,
   "metadata": {},
   "outputs": [],
   "source": [
    "X_train,X_test = X_train/255,X_test/255"
   ]
  },
  {
   "cell_type": "code",
   "execution_count": 13,
   "metadata": {},
   "outputs": [],
   "source": [
    "cnn = models.Sequential([\n",
    "    layers.Conv2D(filters=32,kernel_size=(3,3),activation='relu',input_shape=(64,64,3)),\n",
    "    layers.MaxPool2D((2,2)),\n",
    "    \n",
    "    layers.Conv2D(filters=64,kernel_size=(3,3),activation='relu'),\n",
    "    layers.MaxPool2D((2,2)),\n",
    "    \n",
    "    layers.Flatten(),\n",
    "    layers.Dense(64,activation='relu'),\n",
    "    layers.Dense(25,activation='sigmoid')\n",
    "])"
   ]
  },
  {
   "cell_type": "code",
   "execution_count": 14,
   "metadata": {},
   "outputs": [],
   "source": [
    "cnn.compile(optimizer='adam',loss='sparse_categorical_crossentropy',metrics=['accuracy'])"
   ]
  },
  {
   "cell_type": "code",
   "execution_count": 15,
   "metadata": {},
   "outputs": [
    {
     "name": "stdout",
     "output_type": "stream",
     "text": [
      "Epoch 1/15\n",
      "195/195 [==============================] - 12s 62ms/step - loss: 1.2734 - accuracy: 0.5553\n",
      "Epoch 2/15\n",
      "195/195 [==============================] - 12s 62ms/step - loss: 0.3245 - accuracy: 0.9132\n",
      "Epoch 3/15\n",
      "195/195 [==============================] - 12s 62ms/step - loss: 0.2094 - accuracy: 0.9413\n",
      "Epoch 4/15\n",
      "195/195 [==============================] - 12s 62ms/step - loss: 0.1507 - accuracy: 0.9597\n",
      "Epoch 5/15\n",
      "195/195 [==============================] - 12s 62ms/step - loss: 0.1039 - accuracy: 0.9708\n",
      "Epoch 6/15\n",
      "195/195 [==============================] - 12s 62ms/step - loss: 0.0857 - accuracy: 0.9756\n",
      "Epoch 7/15\n",
      "195/195 [==============================] - 12s 62ms/step - loss: 0.0929 - accuracy: 0.9769\n",
      "Epoch 8/15\n",
      "195/195 [==============================] - 12s 63ms/step - loss: 0.0686 - accuracy: 0.9840\n",
      "Epoch 9/15\n",
      "195/195 [==============================] - 12s 62ms/step - loss: 0.0695 - accuracy: 0.9838\n",
      "Epoch 10/15\n",
      "195/195 [==============================] - 12s 63ms/step - loss: 0.0646 - accuracy: 0.9851\n",
      "Epoch 11/15\n",
      "195/195 [==============================] - 12s 63ms/step - loss: 0.0545 - accuracy: 0.9857\n",
      "Epoch 12/15\n",
      "195/195 [==============================] - 12s 63ms/step - loss: 0.0486 - accuracy: 0.9880\n",
      "Epoch 13/15\n",
      "195/195 [==============================] - 12s 63ms/step - loss: 0.0748 - accuracy: 0.9868\n",
      "Epoch 14/15\n",
      "195/195 [==============================] - 12s 63ms/step - loss: 0.0803 - accuracy: 0.9825\n",
      "Epoch 15/15\n",
      "195/195 [==============================] - 12s 63ms/step - loss: 0.0597 - accuracy: 0.9820\n"
     ]
    }
   ],
   "source": [
    "t1 = time.process_time()\n",
    "cnn_model = cnn.fit(X_train,y_train,epochs=15)\n",
    "t2 = time.process_time()"
   ]
  },
  {
   "cell_type": "code",
   "execution_count": 16,
   "metadata": {},
   "outputs": [],
   "source": [
    "l = []\n",
    "l.append(t2-t1)\n",
    "t1=t2=0"
   ]
  },
  {
   "cell_type": "code",
   "execution_count": 17,
   "metadata": {},
   "outputs": [
    {
     "name": "stdout",
     "output_type": "stream",
     "text": [
      "98/98 [==============================] - 1s 12ms/step - loss: 0.1489 - accuracy: 0.9639\n"
     ]
    }
   ],
   "source": [
    "t1 = time.process_time()\n",
    "l.append(cnn.evaluate(X_test,y_test))\n",
    "t2 = time.process_time()"
   ]
  },
  {
   "cell_type": "code",
   "execution_count": 18,
   "metadata": {},
   "outputs": [],
   "source": [
    "l.append(t2-t1)"
   ]
  },
  {
   "cell_type": "code",
   "execution_count": 37,
   "metadata": {},
   "outputs": [
    {
     "name": "stdout",
     "output_type": "stream",
     "text": [
      "WARNING:tensorflow:From <ipython-input-37-4afb1526b05f>:1: Sequential.predict_classes (from tensorflow.python.keras.engine.sequential) is deprecated and will be removed after 2021-01-01.\n",
      "Instructions for updating:\n",
      "Please use instead:* `np.argmax(model.predict(x), axis=-1)`,   if your model does multi-class classification   (e.g. if it uses a `softmax` last-layer activation).* `(model.predict(x) > 0.5).astype(\"int32\")`,   if your model does binary classification   (e.g. if it uses a `sigmoid` last-layer activation).\n"
     ]
    }
   ],
   "source": [
    "y_pd = cnn.predict_classes(X_test)"
   ]
  },
  {
   "cell_type": "code",
   "execution_count": 38,
   "metadata": {},
   "outputs": [
    {
     "data": {
      "text/plain": [
       "array([ 0,  0,  0, ..., 24,  1,  1])"
      ]
     },
     "execution_count": 38,
     "metadata": {},
     "output_type": "execute_result"
    }
   ],
   "source": [
    "y_pd"
   ]
  },
  {
   "cell_type": "code",
   "execution_count": 39,
   "metadata": {},
   "outputs": [
    {
     "data": {
      "text/plain": [
       "array([ 0,  0,  0, ..., 24, 24, 24])"
      ]
     },
     "execution_count": 39,
     "metadata": {},
     "output_type": "execute_result"
    }
   ],
   "source": [
    "y_test"
   ]
  },
  {
   "cell_type": "code",
   "execution_count": 40,
   "metadata": {},
   "outputs": [],
   "source": [
    "from sklearn.metrics import confusion_matrix"
   ]
  },
  {
   "cell_type": "code",
   "execution_count": 41,
   "metadata": {},
   "outputs": [],
   "source": [
    "cm = []\n",
    "cm = confusion_matrix(y_test,y_pd)"
   ]
  },
  {
   "cell_type": "code",
   "execution_count": 44,
   "metadata": {},
   "outputs": [
    {
     "data": {
      "text/plain": [
       "(25, 25)"
      ]
     },
     "execution_count": 44,
     "metadata": {},
     "output_type": "execute_result"
    }
   ],
   "source": [
    "len(cm),len(cm[0])"
   ]
  },
  {
   "cell_type": "code",
   "execution_count": 48,
   "metadata": {},
   "outputs": [],
   "source": [
    "conf_mat = np.zeros((25,25)) # Initializing the Confusion Matrix"
   ]
  },
  {
   "cell_type": "code",
   "execution_count": 49,
   "metadata": {},
   "outputs": [],
   "source": [
    "conf_mat = conf_mat + cm "
   ]
  },
  {
   "cell_type": "code",
   "execution_count": 50,
   "metadata": {},
   "outputs": [],
   "source": [
    "import matplotlib.pyplot as plt"
   ]
  },
  {
   "cell_type": "code",
   "execution_count": 52,
   "metadata": {},
   "outputs": [
    {
     "data": {
      "image/png": "[encoded data removed]",
      "text/plain": [
       "<Figure size 432x288 with 2 Axes>"
      ]
     },
     "metadata": {
      "needs_background": "light"
     },
     "output_type": "display_data"
    },
    {
     "data": {
      "text/plain": [
       "<Figure size 432x288 with 0 Axes>"
      ]
     },
     "metadata": {},
     "output_type": "display_data"
    }
   ],
   "source": [
    "plt.imshow(conf_mat, interpolation='nearest')\n",
    "plt.title('Confusion matrix')\n",
    "plt.colorbar()\n",
    "plt.show()\n",
    "plt.savefig('confusion_matrix.png')"
   ]
  }
 ],
 "metadata": {
  "kernelspec": {
   "display_name": "Python 3",
   "language": "python",
   "name": "python3"
  },
  "language_info": {
   "codemirror_mode": {
    "name": "ipython",
    "version": 3
   },
   "file_extension": ".py",
   "mimetype": "text/x-python",
   "name": "python",
   "nbconvert_exporter": "python",
   "pygments_lexer": "ipython3",
   "version": "3.8.3"
  }
 },
 "nbformat": 4,
 "nbformat_minor": 4
}
