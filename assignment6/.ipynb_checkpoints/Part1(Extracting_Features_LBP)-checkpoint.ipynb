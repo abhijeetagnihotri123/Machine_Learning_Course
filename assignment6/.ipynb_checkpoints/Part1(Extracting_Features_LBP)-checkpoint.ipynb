{
 "cells": [
  {
   "cell_type": "code",
   "execution_count": 1,
   "metadata": {},
   "outputs": [],
   "source": [
    "import cv2\n",
    "import os\n",
    "from skimage.feature import local_binary_pattern\n",
    "import numpy as np\n",
    "import glob\n",
    "import pandas as pd\n",
    "import pickle\n",
    "import tensorflow as tf"
   ]
  },
  {
   "cell_type": "code",
   "execution_count": 2,
   "metadata": {},
   "outputs": [],
   "source": [
    "list_of_directories = []\n",
    "list_of_files = []"
   ]
  },
  {
   "cell_type": "code",
   "execution_count": 3,
   "metadata": {},
   "outputs": [],
   "source": [
    "path = \"malimg_dataset/malimg_paper_dataset_imgs\""
   ]
  },
  {
   "cell_type": "code",
   "execution_count": 4,
   "metadata": {},
   "outputs": [],
   "source": [
    "list_of_directories = os.listdir(path)"
   ]
  },
  {
   "cell_type": "code",
   "execution_count": 5,
   "metadata": {},
   "outputs": [],
   "source": [
    "outputs_train = [] #this will hold the output in accordance with the sequence\n",
    "outputs_test = []"
   ]
  },
  {
   "cell_type": "code",
   "execution_count": 6,
   "metadata": {},
   "outputs": [],
   "source": [
    "c = 0"
   ]
  },
  {
   "cell_type": "code",
   "execution_count": 6,
   "metadata": {},
   "outputs": [],
   "source": [
    "def lbp_features(img):\n",
    "    img_gray = img[:,:,0].astype(float)*0.33+img[:,:,1].astype(float)*0.33 + img[:,:,2].astype(float)*0.33\n",
    "    lbp = local_binary_pattern(img_gray,8,1,method=\"uniform\")\n",
    "    (hist, _) = np.histogram(lbp.ravel(), bins=np.arange(0, 8 + 3), range=(0, 8 + 2))\n",
    "    hist = hist.astype(\"float\")\n",
    "    hist /= (hist.sum()+1e-6)\n",
    "    hist = hist.tolist()\n",
    "    return hist"
   ]
  },
  {
   "cell_type": "code",
   "execution_count": 7,
   "metadata": {},
   "outputs": [],
   "source": [
    "sample_directory = str(list_of_directories[0])"
   ]
  },
  {
   "cell_type": "code",
   "execution_count": 8,
   "metadata": {},
   "outputs": [],
   "source": [
    "images_path = path+'/'+sample_directory"
   ]
  },
  {
   "cell_type": "code",
   "execution_count": 9,
   "metadata": {},
   "outputs": [],
   "source": [
    "list_of_files = glob.glob(images_path+'/*.png')"
   ]
  },
  {
   "cell_type": "code",
   "execution_count": 10,
   "metadata": {},
   "outputs": [],
   "source": [
    "l_train = []\n",
    "l_test = []"
   ]
  },
  {
   "cell_type": "code",
   "execution_count": 12,
   "metadata": {},
   "outputs": [],
   "source": [
    "n = len(list_of_files)\n",
    "n1 = 2/3*n\n",
    "i=0"
   ]
  },
  {
   "cell_type": "code",
   "execution_count": 13,
   "metadata": {},
   "outputs": [],
   "source": [
    "while i<n1:\n",
    "    img = cv2.imread(list_of_files[i])\n",
    "    hist = lbp_features(img)\n",
    "    l_train.append(hist)\n",
    "    outputs_train.append(0)\n",
    "    i+=1\n",
    "while i<n:\n",
    "    img = cv2.imread(list_of_files[i])\n",
    "    hist = lbp_features(img)\n",
    "    l_test.append(hist)\n",
    "    outputs_test.append(0)\n",
    "    i+=1"
   ]
  },
  {
   "cell_type": "code",
   "execution_count": 14,
   "metadata": {},
   "outputs": [],
   "source": [
    "i = 1\n",
    "while i<4:\n",
    "    sample_directory = str(list_of_directories[i])\n",
    "    image_path = path+'/'+sample_directory\n",
    "    list_of_files = glob.glob(image_path+'/*.png')\n",
    "    n = len(list_of_files)\n",
    "    n1 = 2/3*n\n",
    "    j=0\n",
    "    while j<n1:\n",
    "        img = cv2.imread(list_of_files[j])\n",
    "        hist = lbp_features(img)\n",
    "        l_train.append(hist)\n",
    "        outputs_train.append(i)\n",
    "        j+=1\n",
    "    while j<n:\n",
    "        img = cv2.imread(list_of_files[j])\n",
    "        hist = lbp_features(img)\n",
    "        l_test.append(hist)\n",
    "        outputs_test.append(i)\n",
    "        j+=1\n",
    "    i+=1"
   ]
  },
  {
   "cell_type": "code",
   "execution_count": 15,
   "metadata": {},
   "outputs": [],
   "source": [
    "while i<25:\n",
    "    sample_directory = str(list_of_directories[i])\n",
    "    image_path = path+'/'+sample_directory\n",
    "    list_of_files = glob.glob(image_path+'/*.png')\n",
    "    n = len(list_of_files)\n",
    "    n1 = 2/3*n\n",
    "    j=0\n",
    "    while j<n1:\n",
    "        img = cv2.imread(list_of_files[j])\n",
    "        hist = lbp_features(img)\n",
    "        l_train.append(hist)\n",
    "        outputs_train.append(i)\n",
    "        j+=1\n",
    "    while j<n:\n",
    "        img = cv2.imread(list_of_files[j])\n",
    "        hist = lbp_features(img)\n",
    "        l_test.append(hist)\n",
    "        outputs_test.append(i)\n",
    "        j+=1\n",
    "    i+=1"
   ]
  },
  {
   "cell_type": "code",
   "execution_count": 16,
   "metadata": {},
   "outputs": [],
   "source": [
    "X_train = pd.DataFrame(l_train)"
   ]
  },
  {
   "cell_type": "code",
   "execution_count": 17,
   "metadata": {},
   "outputs": [],
   "source": [
    "X_train['output'] = outputs_train"
   ]
  },
  {
   "cell_type": "code",
   "execution_count": 21,
   "metadata": {},
   "outputs": [],
   "source": [
    "X_train.to_pickle('Training_DataFrame.pkl')"
   ]
  },
  {
   "cell_type": "code",
   "execution_count": 19,
   "metadata": {},
   "outputs": [],
   "source": [
    "X_test = pd.DataFrame(l_test)"
   ]
  },
  {
   "cell_type": "code",
   "execution_count": 20,
   "metadata": {},
   "outputs": [],
   "source": [
    "X_test['output'] = outputs_test"
   ]
  },
  {
   "cell_type": "code",
   "execution_count": 22,
   "metadata": {},
   "outputs": [],
   "source": [
    "X_test.to_pickle('Testing_DataFrane.pkl')"
   ]
  },
  {
   "cell_type": "code",
   "execution_count": null,
   "metadata": {},
   "outputs": [],
   "source": []
  }
 ],
 "metadata": {
  "kernelspec": {
   "display_name": "Python 3",
   "language": "python",
   "name": "python3"
  },
  "language_info": {
   "codemirror_mode": {
    "name": "ipython",
    "version": 3
   },
   "file_extension": ".py",
   "mimetype": "text/x-python",
   "name": "python",
   "nbconvert_exporter": "python",
   "pygments_lexer": "ipython3",
   "version": "3.8.3"
  }
 },
 "nbformat": 4,
 "nbformat_minor": 4
}
