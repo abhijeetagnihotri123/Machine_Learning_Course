{
 "cells": [
  {
   "cell_type": "code",
   "execution_count": 4,
   "metadata": {},
   "outputs": [],
   "source": [
    "def FileToList(filename):\n",
    "    l = []\n",
    "    f = open(filename)\n",
    "    for line in f:\n",
    "        l.append(line)\n",
    "    f.close()\n",
    "    return l"
   ]
  },
  {
   "cell_type": "code",
   "execution_count": 5,
   "metadata": {},
   "outputs": [],
   "source": [
    "def THREE_SEQUENCE(l):\n",
    "    three_words = []\n",
    "    if len(l) == 1:\n",
    "        three_words.append(l[0]+'-'+l[0]+'-'+l[0])\n",
    "    elif len(l) == 2:\n",
    "        three_words.append(l[0]+'-'+l[1]+'-'+l[0])\n",
    "    else:\n",
    "        queue_three = []\n",
    "        queue_three.append(l[0])\n",
    "        queue_three.append(l[1])\n",
    "        i = 2\n",
    "        n = len(l)\n",
    "        while i<n:\n",
    "            var1 = queue_three[0]\n",
    "            queue_three.pop(0)\n",
    "            var2 = queue_three[0]\n",
    "            three_words.append(var1+'-'+var2+'-'+l[i])\n",
    "            queue_three.append(l[i])\n",
    "            i+=1\n",
    "    return three_words"
   ]
  },
  {
   "cell_type": "code",
   "execution_count": 6,
   "metadata": {},
   "outputs": [],
   "source": [
    "def FileToThreeSequenceList(filename):\n",
    "    l1 = []\n",
    "    f = open(filename)\n",
    "    for line in f:\n",
    "        l1.append(line)\n",
    "    f.close()\n",
    "    n = len(l1)\n",
    "    i = 0\n",
    "    l = []\n",
    "    while i<n/512:\n",
    "        l.append(l1[i])\n",
    "        i+=1\n",
    "    if len(l)<3:\n",
    "        return []\n",
    "    else:\n",
    "        return THREE_SEQUENCE(l)"
   ]
  },
  {
   "cell_type": "code",
   "execution_count": 7,
   "metadata": {},
   "outputs": [],
   "source": [
    "import glob"
   ]
  },
  {
   "cell_type": "code",
   "execution_count": 8,
   "metadata": {},
   "outputs": [],
   "source": [
    "list_of_filesB = glob.glob(\"Dataset-20201023T162720Z-001/Dataset/B/sys/*.txt\")\n",
    "list_of_filesM = glob.glob(\"Dataset-20201023T162720Z-001/Dataset/M/sys/*.txt\")"
   ]
  },
  {
   "cell_type": "code",
   "execution_count": 9,
   "metadata": {},
   "outputs": [],
   "source": [
    "def computeTF(wordDict,bow):\n",
    "    tfDict = {}\n",
    "    c = len(bow)\n",
    "    for word,count in wordDict.items():\n",
    "        tfDict[word] = count/float(c)\n",
    "    return tfDict"
   ]
  },
  {
   "cell_type": "code",
   "execution_count": 10,
   "metadata": {},
   "outputs": [],
   "source": [
    "def computeIDF(docList):\n",
    "    import math\n",
    "    idfDict = {}\n",
    "    n = len(docList)\n",
    "    idfDict = dict.fromkeys(docList[0].keys(),0)\n",
    "    for doc in docList:\n",
    "        for word,val in doc.items():\n",
    "            if val>0:\n",
    "                idfDict[word] += 1\n",
    "    for word,val in idfDict.items():\n",
    "        idfDict[word] = math.log((n)/float(val))\n",
    "    return idfDict"
   ]
  },
  {
   "cell_type": "code",
   "execution_count": 11,
   "metadata": {},
   "outputs": [],
   "source": [
    "def computeTFIDF(tfVec,idfs):\n",
    "    tfidf = {}\n",
    "    for word,val in tfVec.items():\n",
    "        tfidf[word] = val * idfs[word]\n",
    "    return tfidf"
   ]
  },
  {
   "cell_type": "code",
   "execution_count": 12,
   "metadata": {},
   "outputs": [],
   "source": [
    "l = []\n",
    "wordSet = set([])\n",
    "for filename in list_of_filesB:\n",
    "    l = FileToThreeSequenceList(filename)\n",
    "    wordSet = wordSet.union(set(l))\n",
    "l = []\n",
    "for filename in list_of_filesM:\n",
    "    l = FileToThreeSequenceList(filename)\n",
    "    wordSet = wordSet.union(set(l))"
   ]
  },
  {
   "cell_type": "code",
   "execution_count": 13,
   "metadata": {},
   "outputs": [],
   "source": [
    "l = []\n",
    "output = []\n",
    "for filename in list_of_filesB:\n",
    "    wordDict = dict.fromkeys(wordSet,0)\n",
    "    l1 = FileToThreeSequenceList(filename)\n",
    "    for word in l1:\n",
    "        wordDict[word] += 1\n",
    "    l.append(wordDict)\n",
    "    output.append(0)\n",
    "for filename in list_of_filesM:\n",
    "    wordDict = dict.fromkeys(wordSet,0)\n",
    "    l1 = FileToThreeSequenceList(filename)\n",
    "    for word in l1:\n",
    "        wordDict[word] += 1\n",
    "    l.append(wordDict)\n",
    "    output.append(1)"
   ]
  },
  {
   "cell_type": "code",
   "execution_count": 14,
   "metadata": {},
   "outputs": [],
   "source": [
    "list_of_files = list_of_filesB+list_of_filesM"
   ]
  },
  {
   "cell_type": "code",
   "execution_count": 15,
   "metadata": {},
   "outputs": [],
   "source": [
    "c = 0\n",
    "TFS = []\n",
    "for dictionary in l:\n",
    "    filename = list_of_files[c]\n",
    "    dictionary = computeTF(dictionary,filename)\n",
    "    TFS.append(dictionary)\n",
    "    c+=1"
   ]
  },
  {
   "cell_type": "code",
   "execution_count": 16,
   "metadata": {},
   "outputs": [],
   "source": [
    "idfs = computeIDF(l)"
   ]
  },
  {
   "cell_type": "code",
   "execution_count": 17,
   "metadata": {},
   "outputs": [],
   "source": [
    "TFIDFS = []\n",
    "for dictionary in TFS:\n",
    "    dictionary = computeTFIDF(dictionary,idfs)\n",
    "    TFIDFS.append(dictionary)"
   ]
  },
  {
   "cell_type": "code",
   "execution_count": 18,
   "metadata": {},
   "outputs": [],
   "source": [
    "import pandas as pd"
   ]
  },
  {
   "cell_type": "code",
   "execution_count": 19,
   "metadata": {},
   "outputs": [],
   "source": [
    "df = pd.DataFrame(TFIDFS)\n",
    "df['output'] = output"
   ]
  },
  {
   "cell_type": "code",
   "execution_count": 20,
   "metadata": {},
   "outputs": [],
   "source": [
    "#now trying Logistics regression with 70 percent training and 30 test\n",
    "from sklearn.model_selection import train_test_split\n",
    "X = pd.DataFrame()\n",
    "y = pd.DataFrame()\n",
    "X = df.drop(['output'],axis='columns')\n",
    "y = df.output"
   ]
  },
  {
   "cell_type": "code",
   "execution_count": 21,
   "metadata": {},
   "outputs": [
    {
     "data": {
      "text/plain": [
       "(4076, 1747, 4076, 1747)"
      ]
     },
     "execution_count": 21,
     "metadata": {},
     "output_type": "execute_result"
    }
   ],
   "source": [
    "X_train,X_test,y_train,y_test = train_test_split(X,y,test_size=0.30)\n",
    "len(X_train),len(X_test),len(y_train),len(y_test)"
   ]
  },
  {
   "cell_type": "code",
   "execution_count": 22,
   "metadata": {},
   "outputs": [
    {
     "data": {
      "text/plain": [
       "LogisticRegression()"
      ]
     },
     "execution_count": 22,
     "metadata": {},
     "output_type": "execute_result"
    }
   ],
   "source": [
    "from sklearn.linear_model import LogisticRegression\n",
    "from sklearn.svm import SVC\n",
    "model = LogisticRegression()\n",
    "model"
   ]
  },
  {
   "cell_type": "code",
   "execution_count": 23,
   "metadata": {},
   "outputs": [
    {
     "data": {
      "text/plain": [
       "LogisticRegression()"
      ]
     },
     "execution_count": 23,
     "metadata": {},
     "output_type": "execute_result"
    }
   ],
   "source": [
    "model.fit(X_train,y_train)"
   ]
  },
  {
   "cell_type": "code",
   "execution_count": 24,
   "metadata": {},
   "outputs": [],
   "source": [
    "accuracies = []\n",
    "accuracies.append(model.score(X_test,y_test))"
   ]
  },
  {
   "cell_type": "code",
   "execution_count": 25,
   "metadata": {},
   "outputs": [
    {
     "data": {
      "text/plain": [
       "[0.7429879793932456]"
      ]
     },
     "execution_count": 25,
     "metadata": {},
     "output_type": "execute_result"
    }
   ],
   "source": [
    "accuracies"
   ]
  },
  {
   "cell_type": "code",
   "execution_count": 26,
   "metadata": {},
   "outputs": [],
   "source": [
    "from sklearn.svm import SVC"
   ]
  },
  {
   "cell_type": "code",
   "execution_count": 27,
   "metadata": {},
   "outputs": [],
   "source": [
    "model_linear = SVC(kernel='linear')\n",
    "model_rbf = SVC(kernel='rbf')"
   ]
  },
  {
   "cell_type": "code",
   "execution_count": 28,
   "metadata": {},
   "outputs": [
    {
     "data": {
      "text/plain": [
       "SVC(kernel='linear')"
      ]
     },
     "execution_count": 28,
     "metadata": {},
     "output_type": "execute_result"
    }
   ],
   "source": [
    "model_linear.fit(X_train,y_train)"
   ]
  },
  {
   "cell_type": "code",
   "execution_count": 29,
   "metadata": {},
   "outputs": [],
   "source": [
    "var = model_linear.score(X_test,y_test)"
   ]
  },
  {
   "cell_type": "code",
   "execution_count": 30,
   "metadata": {},
   "outputs": [],
   "source": [
    "accuracies.append(var)"
   ]
  },
  {
   "cell_type": "code",
   "execution_count": 32,
   "metadata": {},
   "outputs": [
    {
     "data": {
      "text/plain": [
       "SVC()"
      ]
     },
     "execution_count": 32,
     "metadata": {},
     "output_type": "execute_result"
    }
   ],
   "source": [
    "model_rbf.fit(X_train,y_train)"
   ]
  },
  {
   "cell_type": "code",
   "execution_count": 33,
   "metadata": {},
   "outputs": [],
   "source": [
    "var = model_rbf.score(X_train,y_train)"
   ]
  },
  {
   "cell_type": "code",
   "execution_count": 34,
   "metadata": {},
   "outputs": [],
   "source": [
    "accuracies.append(var)"
   ]
  },
  {
   "cell_type": "code",
   "execution_count": 35,
   "metadata": {},
   "outputs": [],
   "source": [
    "from matplotlib import pyplot as plt\n",
    "from sklearn import metrics\n",
    "from sklearn.metrics import precision_recall_fscore_support"
   ]
  },
  {
   "cell_type": "code",
   "execution_count": 36,
   "metadata": {},
   "outputs": [],
   "source": [
    "def ROC(model,X_test,y_test):\n",
    "    metrics.plot_roc_curve(model,X_test,y_test)"
   ]
  },
  {
   "cell_type": "code",
   "execution_count": 37,
   "metadata": {},
   "outputs": [],
   "source": [
    "def PRINT_METRICS(model_name,y,y_pred,accuracies,index):\n",
    "    l = []\n",
    "    t = precision_recall_fscore_support(y,y_pred,average='macro')\n",
    "    l.append(t[0])\n",
    "    l.append(t[1])\n",
    "    l.append(t[2])\n",
    "    l.append(accuracies[index])\n",
    "    print(model_name)\n",
    "    print('Precision:'+str(l[0])+'|Recall:'+str(l[1])+'|F1_measure:'+str(l[2])+'|accuracy:'+str(l[3]))"
   ]
  },
  {
   "cell_type": "code",
   "execution_count": 38,
   "metadata": {},
   "outputs": [],
   "source": [
    "#functions defined now will plot ROC curve and all the metrics separately\n",
    "#First Logistics Regression\n",
    "y = [] #this is to be used for all \n",
    "for val in y_test:\n",
    "    y.append(val)"
   ]
  },
  {
   "cell_type": "code",
   "execution_count": 40,
   "metadata": {},
   "outputs": [
    {
     "data": {
      "image/png": "[encoded data removed]",
      "text/plain": [
       "<Figure size 432x288 with 1 Axes>"
      ]
     },
     "metadata": {
      "needs_background": "light"
     },
     "output_type": "display_data"
    }
   ],
   "source": [
    "#plotting ROC for logistics regression\n",
    "ROC(model,X_test,y_test)"
   ]
  },
  {
   "cell_type": "code",
   "execution_count": 42,
   "metadata": {},
   "outputs": [],
   "source": [
    "#printing metrics of Logistics Regression\n",
    "y_pred = model.predict(X_test)"
   ]
  },
  {
   "cell_type": "code",
   "execution_count": 43,
   "metadata": {},
   "outputs": [
    {
     "name": "stdout",
     "output_type": "stream",
     "text": [
      "MODEL:LOGISTICS_REGRESSION\n",
      "Precision:0.8183626222164793|Recall:0.6986685857738786|F1_measure:0.6964564404661797|accuracy:0.7429879793932456\n"
     ]
    }
   ],
   "source": [
    "PRINT_METRICS('MODEL:LOGISTICS_REGRESSION',y,y_pred,accuracies,0)"
   ]
  },
  {
   "cell_type": "code",
   "execution_count": 45,
   "metadata": {},
   "outputs": [],
   "source": [
    "#printing metrics of SVM(Linear)\n",
    "y_pred = model_linear.predict(X_test)"
   ]
  },
  {
   "cell_type": "code",
   "execution_count": 47,
   "metadata": {},
   "outputs": [
    {
     "data": {
      "image/png": "[encoded data removed]",
      "text/plain": [
       "<Figure size 432x288 with 1 Axes>"
      ]
     },
     "metadata": {
      "needs_background": "light"
     },
     "output_type": "display_data"
    }
   ],
   "source": [
    "ROC(model_linear,X_test,y_test)"
   ]
  },
  {
   "cell_type": "code",
   "execution_count": 48,
   "metadata": {},
   "outputs": [
    {
     "name": "stdout",
     "output_type": "stream",
     "text": [
      "MODEL:SVM(LINEAR)\n",
      "Precision:0.8256871524693686|Recall:0.7158370694103986|F1_measure:0.717318231082752|accuracy:0.7572982255294791\n"
     ]
    }
   ],
   "source": [
    "PRINT_METRICS('MODEL:SVM(LINEAR)',y,y_pred,accuracies,1)"
   ]
  },
  {
   "cell_type": "code",
   "execution_count": 49,
   "metadata": {},
   "outputs": [
    {
     "data": {
      "image/png": "[encoded data removed]",
      "text/plain": [
       "<Figure size 432x288 with 1 Axes>"
      ]
     },
     "metadata": {
      "needs_background": "light"
     },
     "output_type": "display_data"
    }
   ],
   "source": [
    "ROC(model_rbf,X_test,y_test)"
   ]
  },
  {
   "cell_type": "code",
   "execution_count": 50,
   "metadata": {},
   "outputs": [
    {
     "name": "stdout",
     "output_type": "stream",
     "text": [
      "MODEL:SVM(RBF)\n",
      "Precision:0.8256871524693686|Recall:0.7158370694103986|F1_measure:0.717318231082752|accuracy:0.7865554465161924\n"
     ]
    }
   ],
   "source": [
    "#printing metrics for SVM(RBF)\n",
    "PRINT_METRICS('MODEL:SVM(RBF)',y,y_pred,accuracies,2)"
   ]
  },
  {
   "cell_type": "code",
   "execution_count": null,
   "metadata": {},
   "outputs": [],
   "source": []
  }
 ],
 "metadata": {
  "kernelspec": {
   "display_name": "Python 3",
   "language": "python",
   "name": "python3"
  },
  "language_info": {
   "codemirror_mode": {
    "name": "ipython",
    "version": 3
   },
   "file_extension": ".py",
   "mimetype": "text/x-python",
   "name": "python",
   "nbconvert_exporter": "python",
   "pygments_lexer": "ipython3",
   "version": "3.8.3"
  }
 },
 "nbformat": 4,
 "nbformat_minor": 4
}
