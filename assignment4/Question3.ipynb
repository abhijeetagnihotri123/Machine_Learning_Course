{
 "cells": [
  {
   "cell_type": "code",
   "execution_count": 1,
   "metadata": {},
   "outputs": [],
   "source": [
    "import glob"
   ]
  },
  {
   "cell_type": "code",
   "execution_count": 2,
   "metadata": {},
   "outputs": [],
   "source": [
    "list_of_filesM = glob.glob(\"Dataset-20201023T162720Z-001/Dataset/M/sys/*.txt\")\n",
    "list_of_filesB = glob.glob(\"Dataset-20201023T162720Z-001/Dataset/B/sys/*.txt\")"
   ]
  },
  {
   "cell_type": "code",
   "execution_count": 3,
   "metadata": {},
   "outputs": [],
   "source": [
    "def TWO_SEQUENCE(l):\n",
    "    q = []\n",
    "    q.append(l[0])\n",
    "    n = len(l)\n",
    "    i = 1\n",
    "    two_sequence = []\n",
    "    while i<n:\n",
    "        var = q[0]\n",
    "        two_sequence.append(var+'-'+l[i])\n",
    "        q.append(l[i])\n",
    "        i+=1\n",
    "        q.pop(0)\n",
    "    return two_sequence"
   ]
  },
  {
   "cell_type": "code",
   "execution_count": 4,
   "metadata": {},
   "outputs": [],
   "source": [
    "def FileToTwoSequenceList(filename):\n",
    "    l1 = []\n",
    "    f = open(filename)\n",
    "    for line in f:\n",
    "        l1.append(line)\n",
    "    f.close()\n",
    "    n = len(l1)\n",
    "    if n<2:\n",
    "        return []\n",
    "    else:\n",
    "        l = TWO_SEQUENCE(l1)\n",
    "    return l"
   ]
  },
  {
   "cell_type": "code",
   "execution_count": 5,
   "metadata": {},
   "outputs": [],
   "source": [
    "l = []\n",
    "wordSetTwoSequence = set([])\n",
    "for filename in list_of_filesB:\n",
    "    l = FileToTwoSequenceList(filename)\n",
    "    wordSetTwoSequence = wordSetTwoSequence.union(set(l))\n",
    "l = []\n",
    "for filename in list_of_filesM:\n",
    "    l = FileToTwoSequenceList(filename)\n",
    "    wordSetTwoSequence = wordSetTwoSequence.union(set(l))"
   ]
  },
  {
   "cell_type": "code",
   "execution_count": 6,
   "metadata": {},
   "outputs": [],
   "source": [
    "if '\\n-\\n' in wordSetTwoSequence:\n",
    "    wordSetTwoSequence.remove('\\n-\\n')"
   ]
  },
  {
   "cell_type": "code",
   "execution_count": 7,
   "metadata": {},
   "outputs": [],
   "source": [
    "l = []\n",
    "output = []\n",
    "for filename in list_of_filesB:\n",
    "    wordDict = dict.fromkeys(wordSetTwoSequence,0)\n",
    "    l1 = FileToTwoSequenceList(filename)\n",
    "    for word in l1:\n",
    "        if word != '\\n-\\n':    \n",
    "            wordDict[word] += 1\n",
    "    l.append(wordDict)\n",
    "    output.append(0)\n",
    "for filename in list_of_filesM:\n",
    "    wordDict = dict.fromkeys(wordSetTwoSequence,0)\n",
    "    l1 = FileToTwoSequenceList(filename)\n",
    "    for word in l1:\n",
    "        if word != '\\n-\\n':\n",
    "            wordDict[word] += 1\n",
    "    l.append(wordDict)\n",
    "    output.append(1)"
   ]
  },
  {
   "cell_type": "code",
   "execution_count": 8,
   "metadata": {},
   "outputs": [],
   "source": [
    "from sklearn.feature_extraction.text import TfidfTransformer"
   ]
  },
  {
   "cell_type": "code",
   "execution_count": 9,
   "metadata": {},
   "outputs": [],
   "source": [
    "import pandas as pd"
   ]
  },
  {
   "cell_type": "code",
   "execution_count": 10,
   "metadata": {},
   "outputs": [],
   "source": [
    "df = pd.DataFrame(l)"
   ]
  },
  {
   "cell_type": "code",
   "execution_count": 11,
   "metadata": {},
   "outputs": [],
   "source": [
    "tf_transformer = TfidfTransformer(use_idf=False).fit(df)"
   ]
  },
  {
   "cell_type": "code",
   "execution_count": 12,
   "metadata": {},
   "outputs": [],
   "source": [
    "df1 = pd.DataFrame()"
   ]
  },
  {
   "cell_type": "code",
   "execution_count": 13,
   "metadata": {},
   "outputs": [],
   "source": [
    "df1 = tf_transformer.transform(df)"
   ]
  },
  {
   "cell_type": "code",
   "execution_count": 14,
   "metadata": {},
   "outputs": [
    {
     "data": {
      "text/plain": [
       "((5823, 2425), (5823, 2425))"
      ]
     },
     "execution_count": 14,
     "metadata": {},
     "output_type": "execute_result"
    }
   ],
   "source": [
    "df1.shape,df.shape"
   ]
  },
  {
   "cell_type": "code",
   "execution_count": 15,
   "metadata": {},
   "outputs": [],
   "source": [
    "X = pd.DataFrame()\n",
    "y = pd.DataFrame()"
   ]
  },
  {
   "cell_type": "code",
   "execution_count": 16,
   "metadata": {},
   "outputs": [],
   "source": [
    "from sklearn.model_selection import train_test_split"
   ]
  },
  {
   "cell_type": "code",
   "execution_count": 17,
   "metadata": {},
   "outputs": [],
   "source": [
    "X = df1#.drop(['output'],axis='columns')\n",
    "y = output"
   ]
  },
  {
   "cell_type": "code",
   "execution_count": 18,
   "metadata": {},
   "outputs": [],
   "source": [
    "X_train,X_test,y_train,y_test = train_test_split(X,y,test_size=0.3)"
   ]
  },
  {
   "cell_type": "code",
   "execution_count": 19,
   "metadata": {},
   "outputs": [],
   "source": [
    "from sklearn.linear_model import LogisticRegression\n",
    "from sklearn.svm import SVC"
   ]
  },
  {
   "cell_type": "code",
   "execution_count": 20,
   "metadata": {},
   "outputs": [],
   "source": [
    "model_LR = LogisticRegression()"
   ]
  },
  {
   "cell_type": "code",
   "execution_count": 21,
   "metadata": {},
   "outputs": [
    {
     "data": {
      "text/plain": [
       "LogisticRegression()"
      ]
     },
     "execution_count": 21,
     "metadata": {},
     "output_type": "execute_result"
    }
   ],
   "source": [
    "model_LR.fit(X_train,y_train)"
   ]
  },
  {
   "cell_type": "code",
   "execution_count": 22,
   "metadata": {},
   "outputs": [],
   "source": [
    "accuracies1 = []"
   ]
  },
  {
   "cell_type": "code",
   "execution_count": 23,
   "metadata": {},
   "outputs": [],
   "source": [
    "accuracies1.append(model_LR.score(X_test,y_test))"
   ]
  },
  {
   "cell_type": "code",
   "execution_count": 24,
   "metadata": {},
   "outputs": [],
   "source": [
    "model_SVMLinear = SVC(kernel='linear')"
   ]
  },
  {
   "cell_type": "code",
   "execution_count": 25,
   "metadata": {},
   "outputs": [],
   "source": [
    "model_SVMRBF = SVC(kernel='rbf')"
   ]
  },
  {
   "cell_type": "code",
   "execution_count": 26,
   "metadata": {},
   "outputs": [
    {
     "data": {
      "text/plain": [
       "SVC(kernel='linear')"
      ]
     },
     "execution_count": 26,
     "metadata": {},
     "output_type": "execute_result"
    }
   ],
   "source": [
    "model_SVMLinear.fit(X_train,y_train)"
   ]
  },
  {
   "cell_type": "code",
   "execution_count": 27,
   "metadata": {},
   "outputs": [],
   "source": [
    "accuracies1.append(model_SVMLinear.score(X_test,y_test))"
   ]
  },
  {
   "cell_type": "code",
   "execution_count": 28,
   "metadata": {},
   "outputs": [
    {
     "data": {
      "text/plain": [
       "SVC()"
      ]
     },
     "execution_count": 28,
     "metadata": {},
     "output_type": "execute_result"
    }
   ],
   "source": [
    "model_SVMRBF.fit(X_train,y_train)"
   ]
  },
  {
   "cell_type": "code",
   "execution_count": 29,
   "metadata": {},
   "outputs": [],
   "source": [
    "accuracies1.append(model_SVMRBF.score(X_test,y_test))"
   ]
  },
  {
   "cell_type": "code",
   "execution_count": 30,
   "metadata": {},
   "outputs": [],
   "source": [
    "from matplotlib import pyplot as plt\n",
    "from sklearn import metrics\n",
    "from sklearn.metrics import precision_recall_fscore_support"
   ]
  },
  {
   "cell_type": "code",
   "execution_count": 31,
   "metadata": {},
   "outputs": [],
   "source": [
    "def ROC(model,X_test,y_test):\n",
    "    metrics.plot_roc_curve(model,X_test,y_test)"
   ]
  },
  {
   "cell_type": "code",
   "execution_count": 32,
   "metadata": {},
   "outputs": [],
   "source": [
    "def PRINT_METRICS(model_name,y,y_pred,accuracies,index):\n",
    "    l = []\n",
    "    t = precision_recall_fscore_support(y,y_pred,average='macro')\n",
    "    l.append(t[0])\n",
    "    l.append(t[1])\n",
    "    l.append(t[2])\n",
    "    l.append(accuracies[index])\n",
    "    print(model_name)\n",
    "    print('Precision:'+str(l[0])+'|Recall:'+str(l[1])+'|F1_measure:'+str(l[2])+'|accuracy:'+str(l[3]))"
   ]
  },
  {
   "cell_type": "code",
   "execution_count": 33,
   "metadata": {},
   "outputs": [],
   "source": [
    "#functions defined now will plot ROC curve and all the metrics separately\n",
    "#First Logistics Regression\n",
    "y = [] #this is to be used for all \n",
    "for val in y_test:\n",
    "    y.append(val)"
   ]
  },
  {
   "cell_type": "code",
   "execution_count": 34,
   "metadata": {},
   "outputs": [],
   "source": [
    "#printing metrics of Logistics Regression\n",
    "y_predL = model_LR.predict(X_test)\n",
    "y_predSVML = model_SVMLinear.predict(X_test)\n",
    "y_predSVMR = model_SVMRBF.predict(X_test)"
   ]
  },
  {
   "cell_type": "code",
   "execution_count": 35,
   "metadata": {},
   "outputs": [
    {
     "data": {
      "image/png": "[encoded data removed]",
      "text/plain": [
       "<Figure size 432x288 with 1 Axes>"
      ]
     },
     "metadata": {
      "needs_background": "light"
     },
     "output_type": "display_data"
    }
   ],
   "source": [
    "#plotting ROC for logistics regression\n",
    "ROC(model_LR,X_test,y_test)"
   ]
  },
  {
   "cell_type": "code",
   "execution_count": 36,
   "metadata": {},
   "outputs": [
    {
     "name": "stdout",
     "output_type": "stream",
     "text": [
      "MODEL:LOGISTICS_REGRESSION\n",
      "Precision:0.9182939033665586|Recall:0.9242997636778547|F1_measure:0.9208048958621906|accuracy:0.9227246708643388\n"
     ]
    }
   ],
   "source": [
    "PRINT_METRICS('MODEL:LOGISTICS_REGRESSION',y,y_predL,accuracies1,0)"
   ]
  },
  {
   "cell_type": "code",
   "execution_count": 37,
   "metadata": {},
   "outputs": [
    {
     "data": {
      "image/png": "[encoded data removed]",
      "text/plain": [
       "<Figure size 432x288 with 1 Axes>"
      ]
     },
     "metadata": {
      "needs_background": "light"
     },
     "output_type": "display_data"
    }
   ],
   "source": [
    "#plotting ROC for SVMLinear\n",
    "ROC(model_SVMLinear,X_test,y_test)"
   ]
  },
  {
   "cell_type": "code",
   "execution_count": 38,
   "metadata": {},
   "outputs": [
    {
     "name": "stdout",
     "output_type": "stream",
     "text": [
      "MODEL:SVM(LINEAR)\n",
      "Precision:0.9259611711690053|Recall:0.9316689270216643|F1_measure:0.9283916322625037|accuracy:0.9301659988551803\n"
     ]
    }
   ],
   "source": [
    "PRINT_METRICS('MODEL:SVM(LINEAR)',y,y_predSVML,accuracies1,1)"
   ]
  },
  {
   "cell_type": "code",
   "execution_count": 39,
   "metadata": {},
   "outputs": [
    {
     "data": {
      "image/png": "[encoded data removed]",
      "text/plain": [
       "<Figure size 432x288 with 1 Axes>"
      ]
     },
     "metadata": {
      "needs_background": "light"
     },
     "output_type": "display_data"
    }
   ],
   "source": [
    "#plotting ROC for SVMRBF\n",
    "ROC(model_SVMRBF,X_test,y_test)"
   ]
  },
  {
   "cell_type": "code",
   "execution_count": 40,
   "metadata": {},
   "outputs": [
    {
     "name": "stdout",
     "output_type": "stream",
     "text": [
      "MODEL:SVM(RBF)\n",
      "Precision:0.9441971805174891|Recall:0.9461812182095282|F1_measure:0.9451483773344376|accuracy:0.9467658843732112\n"
     ]
    }
   ],
   "source": [
    "PRINT_METRICS('MODEL:SVM(RBF)',y,y_predSVMR,accuracies1,2)"
   ]
  },
  {
   "cell_type": "code",
   "execution_count": 41,
   "metadata": {},
   "outputs": [],
   "source": [
    "def THREE_SEQUENCE(l):\n",
    "    queue_three = []\n",
    "    queue_three.append(l[0])\n",
    "    queue_three.append(l[1])\n",
    "    i = 2\n",
    "    n = len(l)\n",
    "    three_words = []\n",
    "    while i<n:\n",
    "        var1 = queue_three[0]\n",
    "        queue_three.pop(0)\n",
    "        var2 = queue_three[0]\n",
    "        three_words.append(var1+'-'+var2+'-'+l[i])\n",
    "        queue_three.append(l[i])\n",
    "        i+=1\n",
    "    return three_words"
   ]
  },
  {
   "cell_type": "code",
   "execution_count": 42,
   "metadata": {},
   "outputs": [],
   "source": [
    "def FileToThreeSequenceList(filename):\n",
    "    l1 = []\n",
    "    f = open(filename)\n",
    "    for line in f:\n",
    "        l1.append(line)\n",
    "    f.close()\n",
    "    n = len(l1)\n",
    "    i = 0\n",
    "    l = []\n",
    "    while i<n/64:\n",
    "        l.append(l1[i])\n",
    "        i+=1\n",
    "    n = len(l)\n",
    "    if n<3:\n",
    "        return []\n",
    "    else:\n",
    "        return THREE_SEQUENCE(l)"
   ]
  },
  {
   "cell_type": "code",
   "execution_count": 43,
   "metadata": {},
   "outputs": [],
   "source": [
    "l = []\n",
    "wordSet = set([])\n",
    "for filename in list_of_filesB:\n",
    "    l = FileToThreeSequenceList(filename)\n",
    "    wordSet = wordSet.union(set(l))\n",
    "l = []\n",
    "for filename in list_of_filesM:\n",
    "    l = FileToThreeSequenceList(filename)\n",
    "    wordSet = wordSet.union(set(l))"
   ]
  },
  {
   "cell_type": "code",
   "execution_count": 44,
   "metadata": {},
   "outputs": [],
   "source": [
    "l = []\n",
    "output = []\n",
    "for filename in list_of_filesB:\n",
    "    wordDict = dict.fromkeys(wordSet,0)\n",
    "    l1 = FileToThreeSequenceList(filename)\n",
    "    for word in l1:\n",
    "        wordDict[word] += 1\n",
    "    l.append(wordDict)\n",
    "    output.append(0)\n",
    "for filename in list_of_filesM:\n",
    "    wordDict = dict.fromkeys(wordSet,0)\n",
    "    l1 = FileToThreeSequenceList(filename)\n",
    "    for word in l1:\n",
    "        wordDict[word] += 1\n",
    "    l.append(wordDict)\n",
    "    output.append(1)"
   ]
  },
  {
   "cell_type": "code",
   "execution_count": 45,
   "metadata": {},
   "outputs": [],
   "source": [
    "from sklearn.feature_extraction.text import TfidfTransformer"
   ]
  },
  {
   "cell_type": "code",
   "execution_count": 46,
   "metadata": {},
   "outputs": [],
   "source": [
    "df = pd.DataFrame(l)"
   ]
  },
  {
   "cell_type": "code",
   "execution_count": 47,
   "metadata": {},
   "outputs": [],
   "source": [
    "tf_transformer = TfidfTransformer(use_idf=False).fit(df)"
   ]
  },
  {
   "cell_type": "code",
   "execution_count": 48,
   "metadata": {},
   "outputs": [],
   "source": [
    "df1 = pd.DataFrame()"
   ]
  },
  {
   "cell_type": "code",
   "execution_count": 49,
   "metadata": {},
   "outputs": [],
   "source": [
    "df1 = tf_transformer.transform(df)"
   ]
  },
  {
   "cell_type": "code",
   "execution_count": 50,
   "metadata": {},
   "outputs": [],
   "source": [
    "X = df1#.drop(['output'],axis='columns')\n",
    "y = output"
   ]
  },
  {
   "cell_type": "code",
   "execution_count": 51,
   "metadata": {},
   "outputs": [],
   "source": [
    "X_train,X_test,y_train,y_test = train_test_split(X,y,test_size=0.3)"
   ]
  },
  {
   "cell_type": "code",
   "execution_count": 52,
   "metadata": {},
   "outputs": [
    {
     "data": {
      "text/plain": [
       "LogisticRegression()"
      ]
     },
     "execution_count": 52,
     "metadata": {},
     "output_type": "execute_result"
    }
   ],
   "source": [
    "model_LR.fit(X_train,y_train)"
   ]
  },
  {
   "cell_type": "code",
   "execution_count": 53,
   "metadata": {},
   "outputs": [],
   "source": [
    "accuracies2 = []"
   ]
  },
  {
   "cell_type": "code",
   "execution_count": 54,
   "metadata": {},
   "outputs": [],
   "source": [
    "accuracies2.append(model_LR.score(X_test,y_test))"
   ]
  },
  {
   "cell_type": "code",
   "execution_count": 55,
   "metadata": {},
   "outputs": [
    {
     "data": {
      "text/plain": [
       "SVC(kernel='linear')"
      ]
     },
     "execution_count": 55,
     "metadata": {},
     "output_type": "execute_result"
    }
   ],
   "source": [
    "model_SVMLinear.fit(X_train,y_train)"
   ]
  },
  {
   "cell_type": "code",
   "execution_count": 56,
   "metadata": {},
   "outputs": [],
   "source": [
    "accuracies2.append(model_SVMLinear.score(X_test,y_test))"
   ]
  },
  {
   "cell_type": "code",
   "execution_count": 57,
   "metadata": {},
   "outputs": [
    {
     "data": {
      "text/plain": [
       "SVC()"
      ]
     },
     "execution_count": 57,
     "metadata": {},
     "output_type": "execute_result"
    }
   ],
   "source": [
    "model_SVMRBF.fit(X_train,y_train)"
   ]
  },
  {
   "cell_type": "code",
   "execution_count": 58,
   "metadata": {},
   "outputs": [],
   "source": [
    "accuracies2.append(model_SVMRBF.score(X_test,y_test))"
   ]
  },
  {
   "cell_type": "code",
   "execution_count": 59,
   "metadata": {},
   "outputs": [],
   "source": [
    "y_predL = model_LR.predict(X_test)\n",
    "y_predSVML = model_SVMLinear.predict(X_test)\n",
    "y_predSVMR = model_SVMRBF.predict(X_test)"
   ]
  },
  {
   "cell_type": "code",
   "execution_count": 60,
   "metadata": {},
   "outputs": [
    {
     "data": {
      "image/png": "[encoded data removed]",
      "text/plain": [
       "<Figure size 432x288 with 1 Axes>"
      ]
     },
     "metadata": {
      "needs_background": "light"
     },
     "output_type": "display_data"
    }
   ],
   "source": [
    "#plotting ROC for logistics regression\n",
    "ROC(model_LR,X_test,y_test)"
   ]
  },
  {
   "cell_type": "code",
   "execution_count": 61,
   "metadata": {},
   "outputs": [],
   "source": [
    "y = []\n",
    "for val in y_test:\n",
    "    y.append(val)"
   ]
  },
  {
   "cell_type": "code",
   "execution_count": 62,
   "metadata": {},
   "outputs": [
    {
     "name": "stdout",
     "output_type": "stream",
     "text": [
      "MODEL:LOGISTICS_REGRESSION\n",
      "Precision:0.8934396969116722|Recall:0.8928690443347601|F1_measure:0.8931514169747221|accuracy:0.8975386376645679\n"
     ]
    }
   ],
   "source": [
    "PRINT_METRICS('MODEL:LOGISTICS_REGRESSION',y,y_predL,accuracies2,0)"
   ]
  },
  {
   "cell_type": "code",
   "execution_count": 63,
   "metadata": {},
   "outputs": [
    {
     "data": {
      "image/png": "[encoded data removed]",
      "text/plain": [
       "<Figure size 432x288 with 1 Axes>"
      ]
     },
     "metadata": {
      "needs_background": "light"
     },
     "output_type": "display_data"
    }
   ],
   "source": [
    "#plotting ROC for SVM_LINEAR\n",
    "ROC(model_SVMLinear,X_test,y_test)"
   ]
  },
  {
   "cell_type": "code",
   "execution_count": 64,
   "metadata": {},
   "outputs": [
    {
     "name": "stdout",
     "output_type": "stream",
     "text": [
      "MODEL:SVM(LINEAR)\n",
      "Precision:0.9151120858900745|Recall:0.9141029388065043|F1_measure:0.9145990818634705|accuracy:0.9181453921007441\n"
     ]
    }
   ],
   "source": [
    "PRINT_METRICS('MODEL:SVM(LINEAR)',y,y_predSVML,accuracies2,1)"
   ]
  },
  {
   "cell_type": "code",
   "execution_count": 65,
   "metadata": {},
   "outputs": [
    {
     "data": {
      "image/png": "[encoded data removed]",
      "text/plain": [
       "<Figure size 432x288 with 1 Axes>"
      ]
     },
     "metadata": {
      "needs_background": "light"
     },
     "output_type": "display_data"
    }
   ],
   "source": [
    "ROC(model_SVMRBF,X_test,y_test)"
   ]
  },
  {
   "cell_type": "code",
   "execution_count": 66,
   "metadata": {},
   "outputs": [
    {
     "name": "stdout",
     "output_type": "stream",
     "text": [
      "MODEL:SVM(RBF)\n",
      "Precision:0.9114816617981174|Recall:0.9155492609962824|F1_measure:0.9133552644094235|accuracy:0.9164281625643961\n"
     ]
    }
   ],
   "source": [
    "PRINT_METRICS('MODEL:SVM(RBF)',y,y_predSVMR,accuracies2,2)"
   ]
  },
  {
   "cell_type": "code",
   "execution_count": 67,
   "metadata": {},
   "outputs": [],
   "source": [
    "accuracies = []"
   ]
  },
  {
   "cell_type": "code",
   "execution_count": 68,
   "metadata": {},
   "outputs": [],
   "source": [
    "#we plotted the ROC curve for three models comparison will be made for SVM linear only\n",
    "accuracies.append(accuracies1[1])\n",
    "accuracies.append(accuracies2[1])"
   ]
  },
  {
   "cell_type": "code",
   "execution_count": 76,
   "metadata": {},
   "outputs": [
    {
     "data": {
      "text/plain": [
       "Text(0, 0.5, 'Accuracy')"
      ]
     },
     "execution_count": 76,
     "metadata": {},
     "output_type": "execute_result"
    },
    {
     "data": {
      "image/png": "[encoded data removed]",
      "text/plain": [
       "<Figure size 432x288 with 1 Axes>"
      ]
     },
     "metadata": {
      "needs_background": "light"
     },
     "output_type": "display_data"
    }
   ],
   "source": [
    "Sx = ('two-sequence','three-sequence')\n",
    "y = (accuracies[0],accuracies[1])\n",
    "plt.bar(x,y,align='center') # A bar chart\n",
    "plt.xlabel('Feature-extraction')\n",
    "plt.ylabel('Accuracy')"
   ]
  }
 ],
 "metadata": {
  "kernelspec": {
   "display_name": "Python 3",
   "language": "python",
   "name": "python3"
  },
  "language_info": {
   "codemirror_mode": {
    "name": "ipython",
    "version": 3
   },
   "file_extension": ".py",
   "mimetype": "text/x-python",
   "name": "python",
   "nbconvert_exporter": "python",
   "pygments_lexer": "ipython3",
   "version": "3.8.3"
  }
 },
 "nbformat": 4,
 "nbformat_minor": 4
}
